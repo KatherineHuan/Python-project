{
 "cells": [
  {
   "cell_type": "markdown",
   "metadata": {},
   "source": [
    "<font size=\"6\"> Credit Default Prediction using Deep Learning Models"
   ]
  },
  {
   "cell_type": "code",
   "execution_count": 1,
   "metadata": {},
   "outputs": [],
   "source": [
    "import numpy as np \n",
    "import pandas as pd \n",
    "import seaborn as sns\n",
    "import tensorflow as tf\n",
    "import matplotlib.pyplot as plt\n",
    "from sklearn.metrics import accuracy_score,f1_score,precision_score, recall_score, confusion_matrix, classification_report, fbeta_score\n",
    "from sklearn import preprocessing\n",
    "from sklearn.model_selection import train_test_split, cross_val_score, StratifiedKFold\n",
    "from sklearn.preprocessing import StandardScaler, LabelEncoder, OneHotEncoder, MinMaxScaler\n",
    "from collections import Counter\n",
    "from tensorflow.keras import layers\n",
    "from keras.models import Sequential\n",
    "from keras.wrappers.scikit_learn import KerasClassifier\n",
    "from scipy.signal import savgol_filter\n",
    "from keras.layers import Dense, Dropout\n",
    "from tensorflow import keras\n",
    "from sklearn import metrics\n",
    "from imblearn.over_sampling import RandomOverSampler,SMOTE\n",
    "from imblearn.under_sampling import RandomUnderSampler \n"
   ]
  },
  {
   "cell_type": "code",
   "execution_count": 2,
   "metadata": {},
   "outputs": [],
   "source": [
    "data1 = pd.read_csv('application_data.csv')"
   ]
  },
  {
   "cell_type": "code",
   "execution_count": 3,
   "metadata": {},
   "outputs": [
    {
     "name": "stdout",
     "output_type": "stream",
     "text": [
      "Index(['NAME_CONTRACT_TYPE', 'CODE_GENDER', 'FLAG_OWN_CAR', 'FLAG_OWN_REALTY',\n",
      "       'NAME_TYPE_SUITE', 'NAME_INCOME_TYPE', 'NAME_EDUCATION_TYPE',\n",
      "       'NAME_FAMILY_STATUS', 'NAME_HOUSING_TYPE', 'OCCUPATION_TYPE',\n",
      "       'WEEKDAY_APPR_PROCESS_START', 'ORGANIZATION_TYPE', 'FONDKAPREMONT_MODE',\n",
      "       'HOUSETYPE_MODE', 'WALLSMATERIAL_MODE', 'EMERGENCYSTATE_MODE'],\n",
      "      dtype='object')\n"
     ]
    }
   ],
   "source": [
    "#Drop SK_ID_Curr & Target\n",
    "y= data1['TARGET']\n",
    "data1=data1.drop(['SK_ID_CURR','TARGET'],axis=1)\n",
    "print(data1.select_dtypes('object').columns)"
   ]
  },
  {
   "cell_type": "code",
   "execution_count": 4,
   "metadata": {},
   "outputs": [],
   "source": [
    "#label Encoder for column with <= 2 \n",
    "le = LabelEncoder()\n",
    "data1['NAME_CONTRACT_TYPE'] = le.fit_transform(data1['NAME_CONTRACT_TYPE'])\n",
    "data1['CODE_GENDER'] = le.fit_transform(data1['CODE_GENDER'])\n",
    "data1['FLAG_OWN_CAR'] = le.fit_transform(data1['FLAG_OWN_CAR'])\n",
    "data1['FLAG_OWN_REALTY'] = le.fit_transform(data1['FLAG_OWN_REALTY'])\n",
    "#one hot Enc for column with > 2 \n",
    "categorical_cols = ['NAME_TYPE_SUITE', 'NAME_INCOME_TYPE', 'NAME_EDUCATION_TYPE',\n",
    "       'NAME_FAMILY_STATUS', 'NAME_HOUSING_TYPE', 'OCCUPATION_TYPE',\n",
    "       'WEEKDAY_APPR_PROCESS_START', 'ORGANIZATION_TYPE', 'FONDKAPREMONT_MODE',\n",
    "       'HOUSETYPE_MODE', 'WALLSMATERIAL_MODE', 'EMERGENCYSTATE_MODE']\n",
    "data1=pd.get_dummies(data1, columns=categorical_cols)"
   ]
  },
  {
   "cell_type": "code",
   "execution_count": 5,
   "metadata": {},
   "outputs": [],
   "source": [
    "#Drop Column with missing data >50%\n",
    "perc = 50.0\n",
    "min_count =  int(((100-perc)/100)*data1.shape[0] + 1)\n",
    "data1= data1.dropna( axis=1, \n",
    "                thresh=min_count)\n",
    "df1 = data1.fillna(data1.median())"
   ]
  },
  {
   "cell_type": "code",
   "execution_count": 6,
   "metadata": {},
   "outputs": [],
   "source": [
    "#Robust Scaler\n",
    "from sklearn.preprocessing import RobustScaler\n",
    "\n",
    "scaler = RobustScaler()\n",
    "df_scaled = pd.DataFrame(scaler.fit_transform(df1),columns = df1.columns)"
   ]
  },
  {
   "cell_type": "code",
   "execution_count": 7,
   "metadata": {},
   "outputs": [],
   "source": [
    "#data split for neural Network\n",
    "x_train, x_test, y_train, y_test = train_test_split(df_scaled,y, test_size=0.3,  random_state=0)\n",
    "x_val, x_test, y_val, y_test = train_test_split(x_test,y_test, test_size=0.3,  random_state=0)"
   ]
  },
  {
   "cell_type": "markdown",
   "metadata": {},
   "source": [
    "<font size=\"6\"> Basic Neural Network Model"
   ]
  },
  {
   "cell_type": "code",
   "execution_count": 8,
   "metadata": {},
   "outputs": [
    {
     "name": "stdout",
     "output_type": "stream",
     "text": [
      "Model: \"sequential\"\n",
      "_________________________________________________________________\n",
      " Layer (type)                Output Shape              Param #   \n",
      "=================================================================\n",
      " dense (Dense)               (None, 16)                3232      \n",
      "                                                                 \n",
      " dense_1 (Dense)             (None, 1)                 17        \n",
      "                                                                 \n",
      "=================================================================\n",
      "Total params: 3,249\n",
      "Trainable params: 3,249\n",
      "Non-trainable params: 0\n",
      "_________________________________________________________________\n"
     ]
    }
   ],
   "source": [
    "from keras.models import Sequential\n",
    "from keras.layers import Dense\n",
    "model1 = Sequential([\n",
    "    Dense(units=16, activation='relu', input_dim=len(df_scaled.columns)),\n",
    "    Dense(units=1, activation='sigmoid')])\n",
    "model1.compile(loss='binary_crossentropy', optimizer='adam', metrics=['accuracy'])\n",
    "model1.summary()"
   ]
  },
  {
   "cell_type": "code",
   "execution_count": 9,
   "metadata": {},
   "outputs": [
    {
     "name": "stdout",
     "output_type": "stream",
     "text": [
      "Epoch 1/100\n",
      "22/22 [==============================] - 1s 19ms/step - loss: 1.8908 - accuracy: 0.6751 - val_loss: 1.0279 - val_accuracy: 0.7578\n",
      "Epoch 2/100\n",
      "22/22 [==============================] - 0s 12ms/step - loss: 0.5618 - accuracy: 0.8294 - val_loss: 0.3310 - val_accuracy: 0.9176\n",
      "Epoch 3/100\n",
      "22/22 [==============================] - 0s 12ms/step - loss: 0.3175 - accuracy: 0.9182 - val_loss: 0.3130 - val_accuracy: 0.9194\n",
      "Epoch 4/100\n",
      "22/22 [==============================] - 0s 11ms/step - loss: 0.3052 - accuracy: 0.9185 - val_loss: 0.3008 - val_accuracy: 0.9195\n",
      "Epoch 5/100\n",
      "22/22 [==============================] - 0s 11ms/step - loss: 0.2956 - accuracy: 0.9185 - val_loss: 0.2915 - val_accuracy: 0.9195\n",
      "Epoch 6/100\n",
      "22/22 [==============================] - 0s 11ms/step - loss: 0.2888 - accuracy: 0.9186 - val_loss: 0.2856 - val_accuracy: 0.9195\n",
      "Epoch 7/100\n",
      "22/22 [==============================] - 0s 11ms/step - loss: 0.2837 - accuracy: 0.9187 - val_loss: 0.2811 - val_accuracy: 0.9197\n",
      "Epoch 8/100\n",
      "22/22 [==============================] - 0s 11ms/step - loss: 0.2798 - accuracy: 0.9186 - val_loss: 0.2777 - val_accuracy: 0.9197\n",
      "Epoch 9/100\n",
      "22/22 [==============================] - 0s 11ms/step - loss: 0.2766 - accuracy: 0.9187 - val_loss: 0.2747 - val_accuracy: 0.9197\n",
      "Epoch 10/100\n",
      "22/22 [==============================] - 0s 11ms/step - loss: 0.2735 - accuracy: 0.9187 - val_loss: 0.2719 - val_accuracy: 0.9197\n",
      "Epoch 11/100\n",
      "22/22 [==============================] - 0s 11ms/step - loss: 0.2714 - accuracy: 0.9186 - val_loss: 0.2702 - val_accuracy: 0.9196\n",
      "Epoch 12/100\n",
      "22/22 [==============================] - 0s 11ms/step - loss: 0.2692 - accuracy: 0.9186 - val_loss: 0.2681 - val_accuracy: 0.9196\n",
      "Epoch 13/100\n",
      "22/22 [==============================] - 0s 11ms/step - loss: 0.2671 - accuracy: 0.9186 - val_loss: 0.2660 - val_accuracy: 0.9196\n",
      "Epoch 14/100\n",
      "22/22 [==============================] - 0s 11ms/step - loss: 0.2656 - accuracy: 0.9187 - val_loss: 0.2649 - val_accuracy: 0.9196\n",
      "Epoch 15/100\n",
      "22/22 [==============================] - 0s 11ms/step - loss: 0.2643 - accuracy: 0.9186 - val_loss: 0.2639 - val_accuracy: 0.9195\n",
      "Epoch 16/100\n",
      "22/22 [==============================] - 0s 11ms/step - loss: 0.2634 - accuracy: 0.9186 - val_loss: 0.2633 - val_accuracy: 0.9195\n",
      "Epoch 17/100\n",
      "22/22 [==============================] - 0s 11ms/step - loss: 0.2627 - accuracy: 0.9186 - val_loss: 0.2626 - val_accuracy: 0.9196\n",
      "Epoch 18/100\n",
      "22/22 [==============================] - 0s 11ms/step - loss: 0.2618 - accuracy: 0.9186 - val_loss: 0.2623 - val_accuracy: 0.9194\n",
      "Epoch 19/100\n",
      "22/22 [==============================] - 0s 11ms/step - loss: 0.2617 - accuracy: 0.9185 - val_loss: 0.2612 - val_accuracy: 0.9196\n",
      "Epoch 20/100\n",
      "22/22 [==============================] - 0s 11ms/step - loss: 0.2606 - accuracy: 0.9186 - val_loss: 0.2608 - val_accuracy: 0.9196\n",
      "Epoch 21/100\n",
      "22/22 [==============================] - 0s 12ms/step - loss: 0.2602 - accuracy: 0.9186 - val_loss: 0.2606 - val_accuracy: 0.9195\n",
      "Epoch 22/100\n",
      "22/22 [==============================] - 0s 12ms/step - loss: 0.2603 - accuracy: 0.9186 - val_loss: 0.2603 - val_accuracy: 0.9195\n",
      "Epoch 23/100\n",
      "22/22 [==============================] - 0s 12ms/step - loss: 0.2595 - accuracy: 0.9186 - val_loss: 0.2597 - val_accuracy: 0.9196\n",
      "Epoch 24/100\n",
      "22/22 [==============================] - 0s 13ms/step - loss: 0.2590 - accuracy: 0.9186 - val_loss: 0.2596 - val_accuracy: 0.9196\n",
      "Epoch 25/100\n",
      "22/22 [==============================] - 0s 11ms/step - loss: 0.2594 - accuracy: 0.9186 - val_loss: 0.2598 - val_accuracy: 0.9196\n",
      "Epoch 26/100\n",
      "22/22 [==============================] - 0s 11ms/step - loss: 0.2585 - accuracy: 0.9186 - val_loss: 0.2586 - val_accuracy: 0.9196\n",
      "Epoch 27/100\n",
      "22/22 [==============================] - 0s 11ms/step - loss: 0.2581 - accuracy: 0.9186 - val_loss: 0.2584 - val_accuracy: 0.9196\n",
      "Epoch 28/100\n",
      "22/22 [==============================] - 0s 12ms/step - loss: 0.2577 - accuracy: 0.9186 - val_loss: 0.2581 - val_accuracy: 0.9196\n",
      "Epoch 29/100\n",
      "22/22 [==============================] - 0s 11ms/step - loss: 0.2575 - accuracy: 0.9186 - val_loss: 0.2609 - val_accuracy: 0.9184\n",
      "Epoch 30/100\n",
      "22/22 [==============================] - 0s 11ms/step - loss: 0.2578 - accuracy: 0.9186 - val_loss: 0.2596 - val_accuracy: 0.9185\n",
      "Epoch 31/100\n",
      "22/22 [==============================] - 0s 11ms/step - loss: 0.2570 - accuracy: 0.9186 - val_loss: 0.2576 - val_accuracy: 0.9197\n",
      "Epoch 32/100\n",
      "22/22 [==============================] - 0s 11ms/step - loss: 0.2568 - accuracy: 0.9186 - val_loss: 0.2575 - val_accuracy: 0.9197\n",
      "Epoch 33/100\n",
      "22/22 [==============================] - 0s 11ms/step - loss: 0.2565 - accuracy: 0.9186 - val_loss: 0.2575 - val_accuracy: 0.9197\n",
      "Epoch 34/100\n",
      "22/22 [==============================] - 0s 11ms/step - loss: 0.2564 - accuracy: 0.9185 - val_loss: 0.2574 - val_accuracy: 0.9197\n",
      "Epoch 35/100\n",
      "22/22 [==============================] - 0s 11ms/step - loss: 0.2559 - accuracy: 0.9187 - val_loss: 0.2568 - val_accuracy: 0.9197\n",
      "Epoch 36/100\n",
      "22/22 [==============================] - 0s 11ms/step - loss: 0.2556 - accuracy: 0.9187 - val_loss: 0.2563 - val_accuracy: 0.9196\n",
      "Epoch 37/100\n",
      "22/22 [==============================] - 0s 11ms/step - loss: 0.2554 - accuracy: 0.9187 - val_loss: 0.2564 - val_accuracy: 0.9196\n",
      "Epoch 38/100\n",
      "22/22 [==============================] - 0s 10ms/step - loss: 0.2553 - accuracy: 0.9187 - val_loss: 0.2562 - val_accuracy: 0.9196\n",
      "Epoch 39/100\n",
      "22/22 [==============================] - 0s 11ms/step - loss: 0.2552 - accuracy: 0.9187 - val_loss: 0.2559 - val_accuracy: 0.9196\n",
      "Epoch 40/100\n",
      "22/22 [==============================] - 0s 11ms/step - loss: 0.2549 - accuracy: 0.9188 - val_loss: 0.2557 - val_accuracy: 0.9197\n",
      "Epoch 41/100\n",
      "22/22 [==============================] - 0s 11ms/step - loss: 0.2547 - accuracy: 0.9187 - val_loss: 0.2556 - val_accuracy: 0.9197\n",
      "Epoch 42/100\n",
      "22/22 [==============================] - 0s 11ms/step - loss: 0.2545 - accuracy: 0.9188 - val_loss: 0.2554 - val_accuracy: 0.9196\n",
      "Epoch 43/100\n",
      "22/22 [==============================] - 0s 10ms/step - loss: 0.2545 - accuracy: 0.9187 - val_loss: 0.2553 - val_accuracy: 0.9196\n",
      "Epoch 44/100\n",
      "22/22 [==============================] - 0s 10ms/step - loss: 0.2543 - accuracy: 0.9188 - val_loss: 0.2558 - val_accuracy: 0.9188\n",
      "Epoch 45/100\n",
      "22/22 [==============================] - 0s 12ms/step - loss: 0.2544 - accuracy: 0.9187 - val_loss: 0.2550 - val_accuracy: 0.9195\n",
      "Epoch 46/100\n",
      "22/22 [==============================] - 0s 11ms/step - loss: 0.2543 - accuracy: 0.9187 - val_loss: 0.2549 - val_accuracy: 0.9196\n",
      "Epoch 47/100\n",
      "22/22 [==============================] - 0s 10ms/step - loss: 0.2540 - accuracy: 0.9188 - val_loss: 0.2546 - val_accuracy: 0.9197\n",
      "Epoch 48/100\n",
      "22/22 [==============================] - 0s 11ms/step - loss: 0.2538 - accuracy: 0.9188 - val_loss: 0.2545 - val_accuracy: 0.9196\n",
      "Epoch 49/100\n",
      "22/22 [==============================] - 0s 10ms/step - loss: 0.2541 - accuracy: 0.9188 - val_loss: 0.2549 - val_accuracy: 0.9197\n",
      "Epoch 50/100\n",
      "22/22 [==============================] - 0s 11ms/step - loss: 0.2538 - accuracy: 0.9187 - val_loss: 0.2543 - val_accuracy: 0.9197\n",
      "Epoch 51/100\n",
      "22/22 [==============================] - 0s 11ms/step - loss: 0.2536 - accuracy: 0.9188 - val_loss: 0.2549 - val_accuracy: 0.9196\n",
      "Epoch 52/100\n",
      "22/22 [==============================] - 0s 11ms/step - loss: 0.2541 - accuracy: 0.9187 - val_loss: 0.2542 - val_accuracy: 0.9196\n",
      "Epoch 53/100\n",
      "22/22 [==============================] - 0s 11ms/step - loss: 0.2538 - accuracy: 0.9187 - val_loss: 0.2543 - val_accuracy: 0.9196\n",
      "Epoch 54/100\n",
      "22/22 [==============================] - 0s 12ms/step - loss: 0.2539 - accuracy: 0.9187 - val_loss: 0.2541 - val_accuracy: 0.9196\n",
      "Epoch 55/100\n",
      "22/22 [==============================] - 0s 10ms/step - loss: 0.2536 - accuracy: 0.9187 - val_loss: 0.2543 - val_accuracy: 0.9196\n",
      "Epoch 56/100\n",
      "22/22 [==============================] - 0s 11ms/step - loss: 0.2533 - accuracy: 0.9188 - val_loss: 0.2543 - val_accuracy: 0.9191\n",
      "Epoch 57/100\n",
      "22/22 [==============================] - 0s 11ms/step - loss: 0.2530 - accuracy: 0.9188 - val_loss: 0.2540 - val_accuracy: 0.9196\n",
      "Epoch 58/100\n"
     ]
    },
    {
     "name": "stdout",
     "output_type": "stream",
     "text": [
      "22/22 [==============================] - 0s 11ms/step - loss: 0.2530 - accuracy: 0.9188 - val_loss: 0.2540 - val_accuracy: 0.9196\n",
      "Epoch 59/100\n",
      "22/22 [==============================] - 0s 11ms/step - loss: 0.2529 - accuracy: 0.9188 - val_loss: 0.2533 - val_accuracy: 0.9196\n",
      "Epoch 60/100\n",
      "22/22 [==============================] - 0s 11ms/step - loss: 0.2527 - accuracy: 0.9188 - val_loss: 0.2534 - val_accuracy: 0.9196\n",
      "Epoch 61/100\n",
      "22/22 [==============================] - 0s 13ms/step - loss: 0.2526 - accuracy: 0.9189 - val_loss: 0.2534 - val_accuracy: 0.9196\n",
      "Epoch 62/100\n",
      "22/22 [==============================] - 0s 11ms/step - loss: 0.2528 - accuracy: 0.9188 - val_loss: 0.2537 - val_accuracy: 0.9195\n",
      "Epoch 63/100\n",
      "22/22 [==============================] - 0s 11ms/step - loss: 0.2527 - accuracy: 0.9188 - val_loss: 0.2532 - val_accuracy: 0.9195\n",
      "Epoch 64/100\n",
      "22/22 [==============================] - 0s 11ms/step - loss: 0.2525 - accuracy: 0.9189 - val_loss: 0.2533 - val_accuracy: 0.9195\n",
      "Epoch 65/100\n",
      "22/22 [==============================] - 0s 12ms/step - loss: 0.2526 - accuracy: 0.9189 - val_loss: 0.2531 - val_accuracy: 0.9194\n",
      "Epoch 66/100\n",
      "22/22 [==============================] - 0s 12ms/step - loss: 0.2529 - accuracy: 0.9188 - val_loss: 0.2535 - val_accuracy: 0.9194\n",
      "Epoch 67/100\n",
      "22/22 [==============================] - 0s 11ms/step - loss: 0.2526 - accuracy: 0.9188 - val_loss: 0.2530 - val_accuracy: 0.9196\n",
      "Epoch 68/100\n",
      "22/22 [==============================] - 0s 10ms/step - loss: 0.2525 - accuracy: 0.9188 - val_loss: 0.2538 - val_accuracy: 0.9195\n",
      "Epoch 69/100\n",
      "22/22 [==============================] - 0s 10ms/step - loss: 0.2528 - accuracy: 0.9188 - val_loss: 0.2530 - val_accuracy: 0.9194\n",
      "Epoch 70/100\n",
      "22/22 [==============================] - 0s 11ms/step - loss: 0.2520 - accuracy: 0.9189 - val_loss: 0.2527 - val_accuracy: 0.9195\n",
      "Epoch 71/100\n",
      "22/22 [==============================] - 0s 11ms/step - loss: 0.2521 - accuracy: 0.9189 - val_loss: 0.2533 - val_accuracy: 0.9195\n",
      "Epoch 72/100\n",
      "22/22 [==============================] - 0s 11ms/step - loss: 0.2518 - accuracy: 0.9189 - val_loss: 0.2529 - val_accuracy: 0.9195\n",
      "Epoch 73/100\n",
      "22/22 [==============================] - 0s 11ms/step - loss: 0.2523 - accuracy: 0.9188 - val_loss: 0.2531 - val_accuracy: 0.9195\n",
      "Epoch 74/100\n",
      "22/22 [==============================] - 0s 11ms/step - loss: 0.2520 - accuracy: 0.9189 - val_loss: 0.2527 - val_accuracy: 0.9196\n",
      "Epoch 75/100\n",
      "22/22 [==============================] - 0s 11ms/step - loss: 0.2530 - accuracy: 0.9188 - val_loss: 0.2531 - val_accuracy: 0.9195\n",
      "Epoch 76/100\n",
      "22/22 [==============================] - 0s 11ms/step - loss: 0.2517 - accuracy: 0.9189 - val_loss: 0.2524 - val_accuracy: 0.9196\n",
      "Epoch 77/100\n",
      "22/22 [==============================] - 0s 11ms/step - loss: 0.2521 - accuracy: 0.9189 - val_loss: 0.2524 - val_accuracy: 0.9196\n",
      "Epoch 78/100\n",
      "22/22 [==============================] - 0s 11ms/step - loss: 0.2515 - accuracy: 0.9190 - val_loss: 0.2523 - val_accuracy: 0.9196\n",
      "Epoch 79/100\n",
      "22/22 [==============================] - 0s 11ms/step - loss: 0.2513 - accuracy: 0.9190 - val_loss: 0.2521 - val_accuracy: 0.9197\n",
      "Epoch 80/100\n",
      "22/22 [==============================] - 0s 11ms/step - loss: 0.2514 - accuracy: 0.9190 - val_loss: 0.2522 - val_accuracy: 0.9196\n",
      "Epoch 81/100\n",
      "22/22 [==============================] - 0s 11ms/step - loss: 0.2519 - accuracy: 0.9189 - val_loss: 0.2529 - val_accuracy: 0.9195\n",
      "Epoch 82/100\n",
      "22/22 [==============================] - 0s 10ms/step - loss: 0.2513 - accuracy: 0.9190 - val_loss: 0.2519 - val_accuracy: 0.9196\n",
      "Epoch 83/100\n",
      "22/22 [==============================] - 0s 11ms/step - loss: 0.2511 - accuracy: 0.9190 - val_loss: 0.2519 - val_accuracy: 0.9195\n",
      "Epoch 84/100\n",
      "22/22 [==============================] - 0s 11ms/step - loss: 0.2516 - accuracy: 0.9189 - val_loss: 0.2521 - val_accuracy: 0.9196\n",
      "Epoch 85/100\n",
      "22/22 [==============================] - 0s 10ms/step - loss: 0.2516 - accuracy: 0.9190 - val_loss: 0.2526 - val_accuracy: 0.9197\n",
      "Epoch 86/100\n",
      "22/22 [==============================] - 0s 11ms/step - loss: 0.2514 - accuracy: 0.9190 - val_loss: 0.2519 - val_accuracy: 0.9197\n",
      "Epoch 87/100\n",
      "22/22 [==============================] - 0s 11ms/step - loss: 0.2510 - accuracy: 0.9190 - val_loss: 0.2517 - val_accuracy: 0.9196\n",
      "Epoch 88/100\n",
      "22/22 [==============================] - 0s 11ms/step - loss: 0.2508 - accuracy: 0.9190 - val_loss: 0.2516 - val_accuracy: 0.9196\n",
      "Epoch 89/100\n",
      "22/22 [==============================] - 0s 11ms/step - loss: 0.2508 - accuracy: 0.9190 - val_loss: 0.2518 - val_accuracy: 0.9195\n",
      "Epoch 90/100\n",
      "22/22 [==============================] - 0s 11ms/step - loss: 0.2507 - accuracy: 0.9191 - val_loss: 0.2514 - val_accuracy: 0.9196\n",
      "Epoch 91/100\n",
      "22/22 [==============================] - 0s 11ms/step - loss: 0.2507 - accuracy: 0.9190 - val_loss: 0.2514 - val_accuracy: 0.9196\n",
      "Epoch 92/100\n",
      "22/22 [==============================] - 0s 10ms/step - loss: 0.2506 - accuracy: 0.9190 - val_loss: 0.2516 - val_accuracy: 0.9197\n",
      "Epoch 93/100\n",
      "22/22 [==============================] - 0s 10ms/step - loss: 0.2508 - accuracy: 0.9190 - val_loss: 0.2512 - val_accuracy: 0.9196\n",
      "Epoch 94/100\n",
      "22/22 [==============================] - 0s 11ms/step - loss: 0.2506 - accuracy: 0.9190 - val_loss: 0.2514 - val_accuracy: 0.9197\n",
      "Epoch 95/100\n",
      "22/22 [==============================] - 0s 11ms/step - loss: 0.2505 - accuracy: 0.9190 - val_loss: 0.2512 - val_accuracy: 0.9196\n",
      "Epoch 96/100\n",
      "22/22 [==============================] - 0s 11ms/step - loss: 0.2505 - accuracy: 0.9190 - val_loss: 0.2513 - val_accuracy: 0.9196\n",
      "Epoch 97/100\n",
      "22/22 [==============================] - 0s 11ms/step - loss: 0.2504 - accuracy: 0.9190 - val_loss: 0.2511 - val_accuracy: 0.9196\n",
      "Epoch 98/100\n",
      "22/22 [==============================] - 0s 11ms/step - loss: 0.2505 - accuracy: 0.9190 - val_loss: 0.2519 - val_accuracy: 0.9190\n",
      "Epoch 99/100\n",
      "22/22 [==============================] - 0s 11ms/step - loss: 0.2505 - accuracy: 0.9191 - val_loss: 0.2518 - val_accuracy: 0.9194\n",
      "Epoch 100/100\n",
      "22/22 [==============================] - 0s 10ms/step - loss: 0.2505 - accuracy: 0.9190 - val_loss: 0.2513 - val_accuracy: 0.9196\n"
     ]
    }
   ],
   "source": [
    "hist = model1.fit(x_train, y_train, validation_data=(x_val, y_val), epochs=100, batch_size=10000)"
   ]
  },
  {
   "cell_type": "code",
   "execution_count": 10,
   "metadata": {},
   "outputs": [
    {
     "data": {
      "image/png": "[encoded data removed]",
      "text/plain": [
       "<Figure size 432x288 with 1 Axes>"
      ]
     },
     "metadata": {
      "needs_background": "light"
     },
     "output_type": "display_data"
    }
   ],
   "source": [
    "# Get training and test loss histories\n",
    "training_loss = hist.history['loss']\n",
    "val_loss = hist.history['val_loss']\n",
    "\n",
    "# Create count of the number of epochs\n",
    "epoch_count = range(1, len(training_loss) + 1)\n",
    "\n",
    "# Visualize loss history\n",
    "plt.plot(epoch_count, training_loss, 'r--')\n",
    "plt.plot(epoch_count, val_loss, 'b-')\n",
    "plt.legend(['Training Loss', 'val_loss'])\n",
    "plt.xlabel('Epoch')\n",
    "plt.ylabel('val_loss')\n",
    "plt.show();"
   ]
  },
  {
   "cell_type": "code",
   "execution_count": 11,
   "metadata": {},
   "outputs": [
    {
     "data": {
      "image/png": "[encoded data removed]",
      "text/plain": [
       "<Figure size 432x288 with 1 Axes>"
      ]
     },
     "metadata": {
      "needs_background": "light"
     },
     "output_type": "display_data"
    }
   ],
   "source": [
    "# Get Accuracy\n",
    "accuracy = hist.history['accuracy']\n",
    "val_accuracy = hist.history['val_accuracy']\n",
    "\n",
    "# Visualize loss history\n",
    "plt.plot(epoch_count, accuracy, 'r--')\n",
    "plt.plot(epoch_count, val_accuracy, 'b-')\n",
    "plt.legend(['accuracy', 'val_accuracy'])\n",
    "plt.xlabel('Epoch')\n",
    "plt.ylabel('accuracy')\n",
    "plt.show();"
   ]
  },
  {
   "cell_type": "code",
   "execution_count": 12,
   "metadata": {},
   "outputs": [
    {
     "data": {
      "text/plain": [
       "Text(33.0, 0.5, 'Actual label')"
      ]
     },
     "execution_count": 12,
     "metadata": {},
     "output_type": "execute_result"
    },
    {
     "data": {
      "image/png": "[encoded data removed]",
      "text/plain": [
       "<Figure size 432x288 with 2 Axes>"
      ]
     },
     "metadata": {
      "needs_background": "light"
     },
     "output_type": "display_data"
    }
   ],
   "source": [
    "from sklearn.metrics import confusion_matrix\n",
    "y_pred = model1.predict(x_test) \n",
    "y_pred = [1 if x>0.5 else 0 for x in y_pred]\n",
    "mat = confusion_matrix(y_test, y_pred)\n",
    "labels = ['Legitimate', 'Fraudulent']\n",
    "sns.heatmap(mat/np.sum(mat), annot=True,fmt='.2%', cmap='Blues')\n",
    "plt.xlabel('Predicted label')\n",
    "plt.ylabel('Actual label')"
   ]
  },
  {
   "cell_type": "code",
   "execution_count": 13,
   "metadata": {},
   "outputs": [
    {
     "name": "stdout",
     "output_type": "stream",
     "text": [
      "              precision    recall  f1-score   support\n",
      "\n",
      "     Class 0       0.92      1.00      0.96     25517\n",
      "     Class 1       0.41      0.01      0.02      2160\n",
      "\n",
      "    accuracy                           0.92     27677\n",
      "   macro avg       0.67      0.50      0.49     27677\n",
      "weighted avg       0.88      0.92      0.89     27677\n",
      "\n",
      "f2 score: 0.49759005220699615\n",
      "AUC Score: 0.5044655596341728\n"
     ]
    }
   ],
   "source": [
    "print(classification_report(y_test, y_pred, target_names=['Class 0','Class 1']))\n",
    "print('f2 score: ' + str(fbeta_score(y_test, y_pred,average='macro', beta =2 )))\n",
    "fpr, tpr, thresholds = metrics.roc_curve(y_test,y_pred)\n",
    "print('AUC Score: ' + str(metrics.auc(fpr, tpr)))"
   ]
  },
  {
   "cell_type": "markdown",
   "metadata": {},
   "source": [
    "<font size=\"6\">  Model 2 (Improved with more layer, dropout, Probability adjustment)"
   ]
  },
  {
   "cell_type": "code",
   "execution_count": 17,
   "metadata": {},
   "outputs": [
    {
     "name": "stdout",
     "output_type": "stream",
     "text": [
      "Model: \"sequential_1\"\n",
      "_________________________________________________________________\n",
      " Layer (type)                Output Shape              Param #   \n",
      "=================================================================\n",
      " dense_2 (Dense)             (None, 120)               24240     \n",
      "                                                                 \n",
      " dropout (Dropout)           (None, 120)               0         \n",
      "                                                                 \n",
      " dense_3 (Dense)             (None, 16)                1936      \n",
      "                                                                 \n",
      " dense_4 (Dense)             (None, 1)                 17        \n",
      "                                                                 \n",
      "=================================================================\n",
      "Total params: 26,193\n",
      "Trainable params: 26,193\n",
      "Non-trainable params: 0\n",
      "_________________________________________________________________\n"
     ]
    }
   ],
   "source": [
    "model2 = Sequential([\n",
    "    Dense(units=120, activation='relu', input_dim=len(df_scaled.columns)),\n",
    "    Dropout(0.4),\n",
    "    Dense(units=16, activation='relu'),\n",
    "    Dense(units=1, activation='sigmoid')])\n",
    "model2.compile(loss='binary_crossentropy', optimizer='adam', metrics=['accuracy'])\n",
    "model2.summary()"
   ]
  },
  {
   "cell_type": "code",
   "execution_count": 18,
   "metadata": {},
   "outputs": [
    {
     "name": "stdout",
     "output_type": "stream",
     "text": [
      "Epoch 1/100\n",
      "22/22 [==============================] - 1s 34ms/step - loss: 2.7791 - accuracy: 0.4989 - val_loss: 0.4998 - val_accuracy: 0.9188\n",
      "Epoch 2/100\n",
      "22/22 [==============================] - 1s 28ms/step - loss: 0.5435 - accuracy: 0.9113 - val_loss: 0.4664 - val_accuracy: 0.9198\n",
      "Epoch 3/100\n",
      "22/22 [==============================] - 1s 34ms/step - loss: 0.4649 - accuracy: 0.9152 - val_loss: 0.3892 - val_accuracy: 0.9198\n",
      "Epoch 4/100\n",
      "22/22 [==============================] - 1s 27ms/step - loss: 0.4035 - accuracy: 0.9124 - val_loss: 0.3391 - val_accuracy: 0.9198\n",
      "Epoch 5/100\n",
      "22/22 [==============================] - 1s 27ms/step - loss: 0.3734 - accuracy: 0.9117 - val_loss: 0.3121 - val_accuracy: 0.9198\n",
      "Epoch 6/100\n",
      "22/22 [==============================] - 1s 27ms/step - loss: 0.3532 - accuracy: 0.9118 - val_loss: 0.2971 - val_accuracy: 0.9198\n",
      "Epoch 7/100\n",
      "22/22 [==============================] - 1s 28ms/step - loss: 0.3422 - accuracy: 0.9131 - val_loss: 0.2875 - val_accuracy: 0.9198\n",
      "Epoch 8/100\n",
      "22/22 [==============================] - 1s 30ms/step - loss: 0.3266 - accuracy: 0.9143 - val_loss: 0.2811 - val_accuracy: 0.9198\n",
      "Epoch 9/100\n",
      "22/22 [==============================] - 1s 29ms/step - loss: 0.3179 - accuracy: 0.9147 - val_loss: 0.2756 - val_accuracy: 0.9198\n",
      "Epoch 10/100\n",
      "22/22 [==============================] - 1s 26ms/step - loss: 0.3129 - accuracy: 0.9155 - val_loss: 0.2724 - val_accuracy: 0.9198\n",
      "Epoch 11/100\n",
      "22/22 [==============================] - 1s 27ms/step - loss: 0.3047 - accuracy: 0.9159 - val_loss: 0.2697 - val_accuracy: 0.9198\n",
      "Epoch 12/100\n",
      "22/22 [==============================] - 1s 27ms/step - loss: 0.2971 - accuracy: 0.9165 - val_loss: 0.2669 - val_accuracy: 0.9198\n",
      "Epoch 13/100\n",
      "22/22 [==============================] - 1s 26ms/step - loss: 0.2929 - accuracy: 0.9169 - val_loss: 0.2652 - val_accuracy: 0.9198\n",
      "Epoch 14/100\n",
      "22/22 [==============================] - 1s 27ms/step - loss: 0.2885 - accuracy: 0.9172 - val_loss: 0.2632 - val_accuracy: 0.9198\n",
      "Epoch 15/100\n",
      "22/22 [==============================] - 1s 28ms/step - loss: 0.2883 - accuracy: 0.9172 - val_loss: 0.2615 - val_accuracy: 0.9198\n",
      "Epoch 16/100\n",
      "22/22 [==============================] - 1s 27ms/step - loss: 0.2837 - accuracy: 0.9177 - val_loss: 0.2613 - val_accuracy: 0.9198\n",
      "Epoch 17/100\n",
      "22/22 [==============================] - 1s 27ms/step - loss: 0.2803 - accuracy: 0.9177 - val_loss: 0.2605 - val_accuracy: 0.9198\n",
      "Epoch 18/100\n",
      "22/22 [==============================] - 1s 27ms/step - loss: 0.2791 - accuracy: 0.9179 - val_loss: 0.2592 - val_accuracy: 0.9198\n",
      "Epoch 19/100\n",
      "22/22 [==============================] - 1s 28ms/step - loss: 0.2793 - accuracy: 0.9180 - val_loss: 0.2599 - val_accuracy: 0.9198\n",
      "Epoch 20/100\n",
      "22/22 [==============================] - 1s 29ms/step - loss: 0.2774 - accuracy: 0.9179 - val_loss: 0.2587 - val_accuracy: 0.9198\n",
      "Epoch 21/100\n",
      "22/22 [==============================] - 1s 27ms/step - loss: 0.2768 - accuracy: 0.9181 - val_loss: 0.2589 - val_accuracy: 0.9198\n",
      "Epoch 22/100\n",
      "22/22 [==============================] - 1s 28ms/step - loss: 0.2743 - accuracy: 0.9182 - val_loss: 0.2589 - val_accuracy: 0.9198\n",
      "Epoch 23/100\n",
      "22/22 [==============================] - 1s 27ms/step - loss: 0.2735 - accuracy: 0.9183 - val_loss: 0.2584 - val_accuracy: 0.9198\n",
      "Epoch 24/100\n",
      "22/22 [==============================] - 1s 28ms/step - loss: 0.2720 - accuracy: 0.9183 - val_loss: 0.2582 - val_accuracy: 0.9198\n",
      "Epoch 25/100\n",
      "22/22 [==============================] - 1s 27ms/step - loss: 0.2715 - accuracy: 0.9183 - val_loss: 0.2585 - val_accuracy: 0.9198\n",
      "Epoch 26/100\n",
      "22/22 [==============================] - 1s 28ms/step - loss: 0.2711 - accuracy: 0.9183 - val_loss: 0.2572 - val_accuracy: 0.9198\n",
      "Epoch 27/100\n",
      "22/22 [==============================] - 1s 27ms/step - loss: 0.2695 - accuracy: 0.9182 - val_loss: 0.2567 - val_accuracy: 0.9198\n",
      "Epoch 28/100\n",
      "22/22 [==============================] - 1s 27ms/step - loss: 0.2685 - accuracy: 0.9185 - val_loss: 0.2568 - val_accuracy: 0.9198\n",
      "Epoch 29/100\n",
      "22/22 [==============================] - 1s 28ms/step - loss: 0.2688 - accuracy: 0.9185 - val_loss: 0.2565 - val_accuracy: 0.9198\n",
      "Epoch 30/100\n",
      "22/22 [==============================] - 1s 28ms/step - loss: 0.2681 - accuracy: 0.9185 - val_loss: 0.2571 - val_accuracy: 0.9198\n",
      "Epoch 31/100\n",
      "22/22 [==============================] - 1s 28ms/step - loss: 0.2673 - accuracy: 0.9185 - val_loss: 0.2563 - val_accuracy: 0.9198\n",
      "Epoch 32/100\n",
      "22/22 [==============================] - 1s 28ms/step - loss: 0.2663 - accuracy: 0.9185 - val_loss: 0.2562 - val_accuracy: 0.9198\n",
      "Epoch 33/100\n",
      "22/22 [==============================] - 1s 28ms/step - loss: 0.2660 - accuracy: 0.9185 - val_loss: 0.2558 - val_accuracy: 0.9198\n",
      "Epoch 34/100\n",
      "22/22 [==============================] - 1s 27ms/step - loss: 0.2651 - accuracy: 0.9186 - val_loss: 0.2562 - val_accuracy: 0.9198\n",
      "Epoch 35/100\n",
      "22/22 [==============================] - 1s 27ms/step - loss: 0.2659 - accuracy: 0.9185 - val_loss: 0.2561 - val_accuracy: 0.9198\n",
      "Epoch 36/100\n",
      "22/22 [==============================] - 1s 27ms/step - loss: 0.2650 - accuracy: 0.9185 - val_loss: 0.2554 - val_accuracy: 0.9198\n",
      "Epoch 37/100\n",
      "22/22 [==============================] - 1s 27ms/step - loss: 0.2643 - accuracy: 0.9185 - val_loss: 0.2550 - val_accuracy: 0.9198\n",
      "Epoch 38/100\n",
      "22/22 [==============================] - 1s 27ms/step - loss: 0.2641 - accuracy: 0.9185 - val_loss: 0.2554 - val_accuracy: 0.9198\n",
      "Epoch 39/100\n",
      "22/22 [==============================] - 1s 28ms/step - loss: 0.2642 - accuracy: 0.9186 - val_loss: 0.2554 - val_accuracy: 0.9198\n",
      "Epoch 40/100\n",
      "22/22 [==============================] - 1s 27ms/step - loss: 0.2632 - accuracy: 0.9186 - val_loss: 0.2543 - val_accuracy: 0.9198\n",
      "Epoch 41/100\n",
      "22/22 [==============================] - 1s 26ms/step - loss: 0.2632 - accuracy: 0.9185 - val_loss: 0.2549 - val_accuracy: 0.9198\n",
      "Epoch 42/100\n",
      "22/22 [==============================] - 1s 26ms/step - loss: 0.2625 - accuracy: 0.9185 - val_loss: 0.2544 - val_accuracy: 0.9198\n",
      "Epoch 43/100\n",
      "22/22 [==============================] - 1s 27ms/step - loss: 0.2633 - accuracy: 0.9187 - val_loss: 0.2551 - val_accuracy: 0.9198\n",
      "Epoch 44/100\n",
      "22/22 [==============================] - 1s 27ms/step - loss: 0.2621 - accuracy: 0.9186 - val_loss: 0.2550 - val_accuracy: 0.9198\n",
      "Epoch 45/100\n",
      "22/22 [==============================] - 1s 27ms/step - loss: 0.2619 - accuracy: 0.9186 - val_loss: 0.2543 - val_accuracy: 0.9198\n",
      "Epoch 46/100\n",
      "22/22 [==============================] - 1s 27ms/step - loss: 0.2612 - accuracy: 0.9187 - val_loss: 0.2541 - val_accuracy: 0.9198\n",
      "Epoch 47/100\n",
      "22/22 [==============================] - 1s 28ms/step - loss: 0.2613 - accuracy: 0.9186 - val_loss: 0.2541 - val_accuracy: 0.9198\n",
      "Epoch 48/100\n",
      "22/22 [==============================] - 1s 28ms/step - loss: 0.2611 - accuracy: 0.9186 - val_loss: 0.2544 - val_accuracy: 0.9198\n",
      "Epoch 49/100\n",
      "22/22 [==============================] - 1s 28ms/step - loss: 0.2607 - accuracy: 0.9187 - val_loss: 0.2538 - val_accuracy: 0.9198\n",
      "Epoch 50/100\n",
      "22/22 [==============================] - 1s 27ms/step - loss: 0.2602 - accuracy: 0.9186 - val_loss: 0.2537 - val_accuracy: 0.9198\n",
      "Epoch 51/100\n",
      "22/22 [==============================] - 1s 26ms/step - loss: 0.2607 - accuracy: 0.9186 - val_loss: 0.2535 - val_accuracy: 0.9198\n",
      "Epoch 52/100\n",
      "22/22 [==============================] - 1s 26ms/step - loss: 0.2602 - accuracy: 0.9186 - val_loss: 0.2534 - val_accuracy: 0.9198\n",
      "Epoch 53/100\n",
      "22/22 [==============================] - 1s 26ms/step - loss: 0.2603 - accuracy: 0.9187 - val_loss: 0.2539 - val_accuracy: 0.9198\n",
      "Epoch 54/100\n",
      "22/22 [==============================] - 1s 26ms/step - loss: 0.2602 - accuracy: 0.9187 - val_loss: 0.2537 - val_accuracy: 0.9198\n",
      "Epoch 55/100\n",
      "22/22 [==============================] - 1s 26ms/step - loss: 0.2593 - accuracy: 0.9186 - val_loss: 0.2536 - val_accuracy: 0.9198\n",
      "Epoch 56/100\n",
      "22/22 [==============================] - 1s 27ms/step - loss: 0.2596 - accuracy: 0.9187 - val_loss: 0.2538 - val_accuracy: 0.9198\n",
      "Epoch 57/100\n",
      "22/22 [==============================] - 1s 26ms/step - loss: 0.2593 - accuracy: 0.9187 - val_loss: 0.2530 - val_accuracy: 0.9198\n",
      "Epoch 58/100\n"
     ]
    },
    {
     "name": "stdout",
     "output_type": "stream",
     "text": [
      "22/22 [==============================] - 1s 26ms/step - loss: 0.2587 - accuracy: 0.9187 - val_loss: 0.2532 - val_accuracy: 0.9198\n",
      "Epoch 59/100\n",
      "22/22 [==============================] - 1s 28ms/step - loss: 0.2587 - accuracy: 0.9187 - val_loss: 0.2528 - val_accuracy: 0.9198\n",
      "Epoch 60/100\n",
      "22/22 [==============================] - 1s 26ms/step - loss: 0.2587 - accuracy: 0.9187 - val_loss: 0.2529 - val_accuracy: 0.9198\n",
      "Epoch 61/100\n",
      "22/22 [==============================] - 1s 26ms/step - loss: 0.2584 - accuracy: 0.9187 - val_loss: 0.2530 - val_accuracy: 0.9198\n",
      "Epoch 62/100\n",
      "22/22 [==============================] - 1s 27ms/step - loss: 0.2593 - accuracy: 0.9187 - val_loss: 0.2529 - val_accuracy: 0.9198\n",
      "Epoch 63/100\n",
      "22/22 [==============================] - 1s 26ms/step - loss: 0.2583 - accuracy: 0.9187 - val_loss: 0.2529 - val_accuracy: 0.9198\n",
      "Epoch 64/100\n",
      "22/22 [==============================] - 1s 27ms/step - loss: 0.2578 - accuracy: 0.9187 - val_loss: 0.2529 - val_accuracy: 0.9198\n",
      "Epoch 65/100\n",
      "22/22 [==============================] - 1s 26ms/step - loss: 0.2575 - accuracy: 0.9187 - val_loss: 0.2526 - val_accuracy: 0.9198\n",
      "Epoch 66/100\n",
      "22/22 [==============================] - 1s 26ms/step - loss: 0.2580 - accuracy: 0.9187 - val_loss: 0.2528 - val_accuracy: 0.9198\n",
      "Epoch 67/100\n",
      "22/22 [==============================] - 1s 26ms/step - loss: 0.2567 - accuracy: 0.9187 - val_loss: 0.2524 - val_accuracy: 0.9198\n",
      "Epoch 68/100\n",
      "22/22 [==============================] - 1s 27ms/step - loss: 0.2574 - accuracy: 0.9188 - val_loss: 0.2526 - val_accuracy: 0.9198\n",
      "Epoch 69/100\n",
      "22/22 [==============================] - 1s 26ms/step - loss: 0.2575 - accuracy: 0.9187 - val_loss: 0.2526 - val_accuracy: 0.9198\n",
      "Epoch 70/100\n",
      "22/22 [==============================] - 1s 26ms/step - loss: 0.2568 - accuracy: 0.9187 - val_loss: 0.2526 - val_accuracy: 0.9198\n",
      "Epoch 71/100\n",
      "22/22 [==============================] - 1s 28ms/step - loss: 0.2571 - accuracy: 0.9187 - val_loss: 0.2525 - val_accuracy: 0.9198\n",
      "Epoch 72/100\n",
      "22/22 [==============================] - 1s 30ms/step - loss: 0.2565 - accuracy: 0.9187 - val_loss: 0.2518 - val_accuracy: 0.9198\n",
      "Epoch 73/100\n",
      "22/22 [==============================] - 1s 29ms/step - loss: 0.2566 - accuracy: 0.9187 - val_loss: 0.2526 - val_accuracy: 0.9198\n",
      "Epoch 74/100\n",
      "22/22 [==============================] - 1s 29ms/step - loss: 0.2569 - accuracy: 0.9187 - val_loss: 0.2522 - val_accuracy: 0.9198\n",
      "Epoch 75/100\n",
      "22/22 [==============================] - 1s 27ms/step - loss: 0.2562 - accuracy: 0.9187 - val_loss: 0.2518 - val_accuracy: 0.9198\n",
      "Epoch 76/100\n",
      "22/22 [==============================] - 1s 26ms/step - loss: 0.2562 - accuracy: 0.9187 - val_loss: 0.2522 - val_accuracy: 0.9198\n",
      "Epoch 77/100\n",
      "22/22 [==============================] - 1s 26ms/step - loss: 0.2560 - accuracy: 0.9187 - val_loss: 0.2521 - val_accuracy: 0.9198\n",
      "Epoch 78/100\n",
      "22/22 [==============================] - 1s 26ms/step - loss: 0.2563 - accuracy: 0.9187 - val_loss: 0.2513 - val_accuracy: 0.9198\n",
      "Epoch 79/100\n",
      "22/22 [==============================] - 1s 26ms/step - loss: 0.2564 - accuracy: 0.9187 - val_loss: 0.2526 - val_accuracy: 0.9198\n",
      "Epoch 80/100\n",
      "22/22 [==============================] - 1s 26ms/step - loss: 0.2555 - accuracy: 0.9187 - val_loss: 0.2520 - val_accuracy: 0.9198\n",
      "Epoch 81/100\n",
      "22/22 [==============================] - 1s 26ms/step - loss: 0.2554 - accuracy: 0.9187 - val_loss: 0.2514 - val_accuracy: 0.9198\n",
      "Epoch 82/100\n",
      "22/22 [==============================] - 1s 26ms/step - loss: 0.2559 - accuracy: 0.9188 - val_loss: 0.2525 - val_accuracy: 0.9198\n",
      "Epoch 83/100\n",
      "22/22 [==============================] - 1s 28ms/step - loss: 0.2555 - accuracy: 0.9188 - val_loss: 0.2523 - val_accuracy: 0.9198\n",
      "Epoch 84/100\n",
      "22/22 [==============================] - 1s 26ms/step - loss: 0.2554 - accuracy: 0.9187 - val_loss: 0.2511 - val_accuracy: 0.9198\n",
      "Epoch 85/100\n",
      "22/22 [==============================] - 1s 27ms/step - loss: 0.2550 - accuracy: 0.9187 - val_loss: 0.2516 - val_accuracy: 0.9198\n",
      "Epoch 86/100\n",
      "22/22 [==============================] - 1s 27ms/step - loss: 0.2550 - accuracy: 0.9187 - val_loss: 0.2518 - val_accuracy: 0.9198\n",
      "Epoch 87/100\n",
      "22/22 [==============================] - 1s 27ms/step - loss: 0.2552 - accuracy: 0.9187 - val_loss: 0.2510 - val_accuracy: 0.9198\n",
      "Epoch 88/100\n",
      "22/22 [==============================] - 1s 28ms/step - loss: 0.2544 - accuracy: 0.9188 - val_loss: 0.2510 - val_accuracy: 0.9198\n",
      "Epoch 89/100\n",
      "22/22 [==============================] - 1s 27ms/step - loss: 0.2543 - accuracy: 0.9188 - val_loss: 0.2519 - val_accuracy: 0.9198\n",
      "Epoch 90/100\n",
      "22/22 [==============================] - 1s 27ms/step - loss: 0.2543 - accuracy: 0.9187 - val_loss: 0.2517 - val_accuracy: 0.9198\n",
      "Epoch 91/100\n",
      "22/22 [==============================] - 1s 29ms/step - loss: 0.2548 - accuracy: 0.9188 - val_loss: 0.2512 - val_accuracy: 0.9198\n",
      "Epoch 92/100\n",
      "22/22 [==============================] - 1s 28ms/step - loss: 0.2544 - accuracy: 0.9187 - val_loss: 0.2510 - val_accuracy: 0.9198\n",
      "Epoch 93/100\n",
      "22/22 [==============================] - 1s 30ms/step - loss: 0.2539 - accuracy: 0.9188 - val_loss: 0.2518 - val_accuracy: 0.9198\n",
      "Epoch 94/100\n",
      "22/22 [==============================] - 1s 28ms/step - loss: 0.2543 - accuracy: 0.9187 - val_loss: 0.2513 - val_accuracy: 0.9198\n",
      "Epoch 95/100\n",
      "22/22 [==============================] - 1s 27ms/step - loss: 0.2541 - accuracy: 0.9188 - val_loss: 0.2513 - val_accuracy: 0.9198\n",
      "Epoch 96/100\n",
      "22/22 [==============================] - 1s 26ms/step - loss: 0.2538 - accuracy: 0.9188 - val_loss: 0.2513 - val_accuracy: 0.9198\n",
      "Epoch 97/100\n",
      "22/22 [==============================] - 1s 27ms/step - loss: 0.2538 - accuracy: 0.9187 - val_loss: 0.2511 - val_accuracy: 0.9198\n",
      "Epoch 98/100\n",
      "22/22 [==============================] - 1s 32ms/step - loss: 0.2539 - accuracy: 0.9188 - val_loss: 0.2506 - val_accuracy: 0.9198\n",
      "Epoch 99/100\n",
      "22/22 [==============================] - 1s 31ms/step - loss: 0.2541 - accuracy: 0.9187 - val_loss: 0.2509 - val_accuracy: 0.9198\n",
      "Epoch 100/100\n",
      "22/22 [==============================] - 1s 27ms/step - loss: 0.2536 - accuracy: 0.9187 - val_loss: 0.2505 - val_accuracy: 0.9198\n"
     ]
    }
   ],
   "source": [
    "hist = model2.fit(x_train, y_train, validation_data=(x_val, y_val), epochs=100, batch_size=10000)"
   ]
  },
  {
   "cell_type": "code",
   "execution_count": 19,
   "metadata": {},
   "outputs": [
    {
     "data": {
      "image/png": "[encoded data removed]",
      "text/plain": [
       "<Figure size 432x288 with 1 Axes>"
      ]
     },
     "metadata": {
      "needs_background": "light"
     },
     "output_type": "display_data"
    }
   ],
   "source": [
    "# Get training and test loss histories\n",
    "training_loss = hist.history['loss']\n",
    "val_loss = hist.history['val_loss']\n",
    "\n",
    "# Create count of the number of epochs\n",
    "epoch_count = range(1, len(training_loss) + 1)\n",
    "\n",
    "# Visualize loss history\n",
    "plt.plot(epoch_count, training_loss, 'r--')\n",
    "plt.plot(epoch_count, val_loss, 'b-')\n",
    "plt.legend(['Training Loss', 'val_loss'])\n",
    "plt.xlabel('Epoch')\n",
    "plt.ylabel('val_loss')\n",
    "plt.show();"
   ]
  },
  {
   "cell_type": "code",
   "execution_count": 20,
   "metadata": {},
   "outputs": [
    {
     "data": {
      "image/png": "[encoded data removed]",
      "text/plain": [
       "<Figure size 432x288 with 1 Axes>"
      ]
     },
     "metadata": {
      "needs_background": "light"
     },
     "output_type": "display_data"
    }
   ],
   "source": [
    "y_predicted = model2.predict(x_test)\n",
    "k =[]\n",
    "f2score = []\n",
    "for i in range(1,11,1):\n",
    "    i = i*0.05\n",
    "    k.append(i)\n",
    "    y_pred = [1 if x>i else 0 for x in y_predicted]\n",
    "    f2score.append(fbeta_score(y_test, y_pred, average='macro',beta=2))\n",
    "plt.plot(k,f2score)\n",
    "plt.xlabel('Probability')\n",
    "plt.ylabel('f2 score')\n",
    "plt.show();"
   ]
  },
  {
   "cell_type": "code",
   "execution_count": 21,
   "metadata": {},
   "outputs": [
    {
     "data": {
      "text/plain": [
       "Text(33.0, 0.5, 'Actual label')"
      ]
     },
     "execution_count": 21,
     "metadata": {},
     "output_type": "execute_result"
    },
    {
     "data": {
      "image/png": "[encoded data removed]",
      "text/plain": [
       "<Figure size 432x288 with 2 Axes>"
      ]
     },
     "metadata": {
      "needs_background": "light"
     },
     "output_type": "display_data"
    }
   ],
   "source": [
    "y_pred = model2.predict(x_test) \n",
    "y_pred = [1 if x>0.15 else 0 for x in y_pred]\n",
    "mat = confusion_matrix(y_test, y_pred)\n",
    "labels = ['Legitimate', 'Fraudulent']\n",
    "sns.heatmap(mat/np.sum(mat), annot=True,fmt='.2%', cmap='Blues')\n",
    "plt.xlabel('Predicted label')\n",
    "plt.ylabel('Actual label')"
   ]
  },
  {
   "cell_type": "code",
   "execution_count": 22,
   "metadata": {},
   "outputs": [
    {
     "name": "stdout",
     "output_type": "stream",
     "text": [
      "              precision    recall  f1-score   support\n",
      "\n",
      "     Class 0       0.94      0.88      0.91     25517\n",
      "     Class 1       0.22      0.39      0.28      2160\n",
      "\n",
      "    accuracy                           0.85     27677\n",
      "   macro avg       0.58      0.64      0.60     27677\n",
      "weighted avg       0.89      0.85      0.86     27677\n",
      "\n",
      "f2 score: 0.6162485634560522\n",
      "AUC Score: 0.6358118915639392\n"
     ]
    }
   ],
   "source": [
    "print(classification_report(y_test, y_pred, target_names=['Class 0','Class 1']))\n",
    "print('f2 score: ' + str(fbeta_score(y_test, y_pred,average='macro', beta =2 )))\n",
    "fpr, tpr, thresholds = metrics.roc_curve(y_test,y_pred)\n",
    "print('AUC Score: ' + str(metrics.auc(fpr, tpr)))"
   ]
  },
  {
   "cell_type": "markdown",
   "metadata": {},
   "source": [
    "<font size=\"6\"> Model after OverSampling "
   ]
  },
  {
   "cell_type": "code",
   "execution_count": 23,
   "metadata": {},
   "outputs": [],
   "source": [
    "oversample = RandomOverSampler(sampling_strategy=1)\n",
    "x_train1, y_train1 = oversample.fit_resample(x_train, y_train)\n"
   ]
  },
  {
   "cell_type": "code",
   "execution_count": 24,
   "metadata": {},
   "outputs": [
    {
     "name": "stdout",
     "output_type": "stream",
     "text": [
      "Model: \"sequential_2\"\n",
      "_________________________________________________________________\n",
      " Layer (type)                Output Shape              Param #   \n",
      "=================================================================\n",
      " dense_5 (Dense)             (None, 16)                3232      \n",
      "                                                                 \n",
      " dense_6 (Dense)             (None, 1)                 17        \n",
      "                                                                 \n",
      "=================================================================\n",
      "Total params: 3,249\n",
      "Trainable params: 3,249\n",
      "Non-trainable params: 0\n",
      "_________________________________________________________________\n"
     ]
    }
   ],
   "source": [
    "model3 = Sequential([\n",
    "    Dense(units=16, activation='relu', input_dim=len(df_scaled.columns)),\n",
    "    Dense(units=1, activation='sigmoid')])\n",
    "model3.compile(loss='binary_crossentropy', optimizer='adam', metrics=['accuracy'])\n",
    "model3.summary()"
   ]
  },
  {
   "cell_type": "code",
   "execution_count": 25,
   "metadata": {},
   "outputs": [
    {
     "name": "stdout",
     "output_type": "stream",
     "text": [
      "Epoch 1/100\n",
      "40/40 [==============================] - 1s 14ms/step - loss: 3.2786 - accuracy: 0.5158 - val_loss: 2.7887 - val_accuracy: 0.4280\n",
      "Epoch 2/100\n",
      "40/40 [==============================] - 0s 11ms/step - loss: 0.9996 - accuracy: 0.5740 - val_loss: 0.6859 - val_accuracy: 0.6217\n",
      "Epoch 3/100\n",
      "40/40 [==============================] - 0s 9ms/step - loss: 0.6656 - accuracy: 0.6207 - val_loss: 0.6262 - val_accuracy: 0.6588\n",
      "Epoch 4/100\n",
      "40/40 [==============================] - 0s 10ms/step - loss: 0.6348 - accuracy: 0.6452 - val_loss: 0.6283 - val_accuracy: 0.6567\n",
      "Epoch 5/100\n",
      "40/40 [==============================] - 0s 10ms/step - loss: 0.6235 - accuracy: 0.6586 - val_loss: 0.6206 - val_accuracy: 0.6675\n",
      "Epoch 6/100\n",
      "40/40 [==============================] - 0s 10ms/step - loss: 0.6164 - accuracy: 0.6659 - val_loss: 0.6115 - val_accuracy: 0.6784\n",
      "Epoch 7/100\n",
      "40/40 [==============================] - 0s 10ms/step - loss: 0.6111 - accuracy: 0.6709 - val_loss: 0.6106 - val_accuracy: 0.6816\n",
      "Epoch 8/100\n",
      "40/40 [==============================] - 0s 10ms/step - loss: 0.6078 - accuracy: 0.6731 - val_loss: 0.6094 - val_accuracy: 0.6814\n",
      "Epoch 9/100\n",
      "40/40 [==============================] - 0s 10ms/step - loss: 0.6058 - accuracy: 0.6746 - val_loss: 0.6149 - val_accuracy: 0.6751\n",
      "Epoch 10/100\n",
      "40/40 [==============================] - 0s 10ms/step - loss: 0.6040 - accuracy: 0.6759 - val_loss: 0.6025 - val_accuracy: 0.6866\n",
      "Epoch 11/100\n",
      "40/40 [==============================] - 0s 10ms/step - loss: 0.6028 - accuracy: 0.6771 - val_loss: 0.6031 - val_accuracy: 0.6855\n",
      "Epoch 12/100\n",
      "40/40 [==============================] - 0s 10ms/step - loss: 0.6017 - accuracy: 0.6780 - val_loss: 0.6074 - val_accuracy: 0.6818\n",
      "Epoch 13/100\n",
      "40/40 [==============================] - 0s 10ms/step - loss: 0.6008 - accuracy: 0.6787 - val_loss: 0.6063 - val_accuracy: 0.6824\n",
      "Epoch 14/100\n",
      "40/40 [==============================] - 0s 11ms/step - loss: 0.6004 - accuracy: 0.6790 - val_loss: 0.6151 - val_accuracy: 0.6776\n",
      "Epoch 15/100\n",
      "40/40 [==============================] - 0s 12ms/step - loss: 0.5996 - accuracy: 0.6794 - val_loss: 0.6026 - val_accuracy: 0.6851\n",
      "Epoch 16/100\n",
      "40/40 [==============================] - 0s 10ms/step - loss: 0.5986 - accuracy: 0.6800 - val_loss: 0.6025 - val_accuracy: 0.6847\n",
      "Epoch 17/100\n",
      "40/40 [==============================] - 0s 10ms/step - loss: 0.5981 - accuracy: 0.6805 - val_loss: 0.5977 - val_accuracy: 0.6886\n",
      "Epoch 18/100\n",
      "40/40 [==============================] - 0s 11ms/step - loss: 0.5974 - accuracy: 0.6808 - val_loss: 0.6075 - val_accuracy: 0.6792\n",
      "Epoch 19/100\n",
      "40/40 [==============================] - 0s 11ms/step - loss: 0.5971 - accuracy: 0.6818 - val_loss: 0.6107 - val_accuracy: 0.6773\n",
      "Epoch 20/100\n",
      "40/40 [==============================] - 0s 11ms/step - loss: 0.5968 - accuracy: 0.6817 - val_loss: 0.6017 - val_accuracy: 0.6844\n",
      "Epoch 21/100\n",
      "40/40 [==============================] - 0s 11ms/step - loss: 0.5961 - accuracy: 0.6818 - val_loss: 0.5986 - val_accuracy: 0.6866\n",
      "Epoch 22/100\n",
      "40/40 [==============================] - 0s 10ms/step - loss: 0.5958 - accuracy: 0.6819 - val_loss: 0.6050 - val_accuracy: 0.6813\n",
      "Epoch 23/100\n",
      "40/40 [==============================] - 0s 11ms/step - loss: 0.5949 - accuracy: 0.6827 - val_loss: 0.5972 - val_accuracy: 0.6884\n",
      "Epoch 24/100\n",
      "40/40 [==============================] - 0s 11ms/step - loss: 0.5947 - accuracy: 0.6830 - val_loss: 0.6036 - val_accuracy: 0.6815\n",
      "Epoch 25/100\n",
      "40/40 [==============================] - 0s 10ms/step - loss: 0.5938 - accuracy: 0.6834 - val_loss: 0.5996 - val_accuracy: 0.6852\n",
      "Epoch 26/100\n",
      "40/40 [==============================] - 0s 10ms/step - loss: 0.5935 - accuracy: 0.6838 - val_loss: 0.6011 - val_accuracy: 0.6840\n",
      "Epoch 27/100\n",
      "40/40 [==============================] - 0s 10ms/step - loss: 0.5932 - accuracy: 0.6839 - val_loss: 0.6021 - val_accuracy: 0.6847\n",
      "Epoch 28/100\n",
      "40/40 [==============================] - 0s 10ms/step - loss: 0.5942 - accuracy: 0.6845 - val_loss: 0.5906 - val_accuracy: 0.6925\n",
      "Epoch 29/100\n",
      "40/40 [==============================] - 0s 10ms/step - loss: 0.5932 - accuracy: 0.6843 - val_loss: 0.6015 - val_accuracy: 0.6858\n",
      "Epoch 30/100\n",
      "40/40 [==============================] - 0s 10ms/step - loss: 0.5928 - accuracy: 0.6848 - val_loss: 0.5960 - val_accuracy: 0.6870\n",
      "Epoch 31/100\n",
      "40/40 [==============================] - 0s 11ms/step - loss: 0.5917 - accuracy: 0.6850 - val_loss: 0.5970 - val_accuracy: 0.6864\n",
      "Epoch 32/100\n",
      "40/40 [==============================] - 0s 11ms/step - loss: 0.5908 - accuracy: 0.6856 - val_loss: 0.5988 - val_accuracy: 0.6884\n",
      "Epoch 33/100\n",
      "40/40 [==============================] - 0s 10ms/step - loss: 0.5913 - accuracy: 0.6856 - val_loss: 0.6058 - val_accuracy: 0.6825\n",
      "Epoch 34/100\n",
      "40/40 [==============================] - 0s 10ms/step - loss: 0.5906 - accuracy: 0.6858 - val_loss: 0.5968 - val_accuracy: 0.6858\n",
      "Epoch 35/100\n",
      "40/40 [==============================] - 0s 10ms/step - loss: 0.5894 - accuracy: 0.6863 - val_loss: 0.5990 - val_accuracy: 0.6848\n",
      "Epoch 36/100\n",
      "40/40 [==============================] - 0s 10ms/step - loss: 0.5890 - accuracy: 0.6866 - val_loss: 0.6020 - val_accuracy: 0.6813\n",
      "Epoch 37/100\n",
      "40/40 [==============================] - 0s 10ms/step - loss: 0.5888 - accuracy: 0.6865 - val_loss: 0.5945 - val_accuracy: 0.6868\n",
      "Epoch 38/100\n",
      "40/40 [==============================] - 0s 10ms/step - loss: 0.5886 - accuracy: 0.6870 - val_loss: 0.6089 - val_accuracy: 0.6761\n",
      "Epoch 39/100\n",
      "40/40 [==============================] - 0s 10ms/step - loss: 0.5881 - accuracy: 0.6870 - val_loss: 0.5926 - val_accuracy: 0.6879\n",
      "Epoch 40/100\n",
      "40/40 [==============================] - 0s 10ms/step - loss: 0.5876 - accuracy: 0.6872 - val_loss: 0.5930 - val_accuracy: 0.6869\n",
      "Epoch 41/100\n",
      "40/40 [==============================] - 0s 10ms/step - loss: 0.5879 - accuracy: 0.6880 - val_loss: 0.5973 - val_accuracy: 0.6838\n",
      "Epoch 42/100\n",
      "40/40 [==============================] - 0s 10ms/step - loss: 0.5870 - accuracy: 0.6881 - val_loss: 0.5992 - val_accuracy: 0.6818\n",
      "Epoch 43/100\n",
      "40/40 [==============================] - 0s 10ms/step - loss: 0.5874 - accuracy: 0.6881 - val_loss: 0.5985 - val_accuracy: 0.6823\n",
      "Epoch 44/100\n",
      "40/40 [==============================] - 0s 10ms/step - loss: 0.5863 - accuracy: 0.6887 - val_loss: 0.6050 - val_accuracy: 0.6767\n",
      "Epoch 45/100\n",
      "40/40 [==============================] - 0s 9ms/step - loss: 0.5862 - accuracy: 0.6889 - val_loss: 0.5941 - val_accuracy: 0.6851\n",
      "Epoch 46/100\n",
      "40/40 [==============================] - 0s 10ms/step - loss: 0.5860 - accuracy: 0.6892 - val_loss: 0.5998 - val_accuracy: 0.6800\n",
      "Epoch 47/100\n",
      "40/40 [==============================] - 0s 10ms/step - loss: 0.5859 - accuracy: 0.6896 - val_loss: 0.5886 - val_accuracy: 0.6902\n",
      "Epoch 48/100\n",
      "40/40 [==============================] - 0s 10ms/step - loss: 0.5853 - accuracy: 0.6900 - val_loss: 0.5818 - val_accuracy: 0.6957\n",
      "Epoch 49/100\n",
      "40/40 [==============================] - 0s 10ms/step - loss: 0.5852 - accuracy: 0.6901 - val_loss: 0.6037 - val_accuracy: 0.6760\n",
      "Epoch 50/100\n",
      "40/40 [==============================] - 0s 10ms/step - loss: 0.5854 - accuracy: 0.6899 - val_loss: 0.5938 - val_accuracy: 0.6882\n",
      "Epoch 51/100\n",
      "40/40 [==============================] - 0s 10ms/step - loss: 0.5847 - accuracy: 0.6902 - val_loss: 0.5932 - val_accuracy: 0.6853\n",
      "Epoch 52/100\n",
      "40/40 [==============================] - 0s 10ms/step - loss: 0.5847 - accuracy: 0.6903 - val_loss: 0.5853 - val_accuracy: 0.6927\n",
      "Epoch 53/100\n",
      "40/40 [==============================] - 0s 10ms/step - loss: 0.5840 - accuracy: 0.6905 - val_loss: 0.5874 - val_accuracy: 0.6903\n",
      "Epoch 54/100\n",
      "40/40 [==============================] - 0s 10ms/step - loss: 0.5842 - accuracy: 0.6906 - val_loss: 0.5983 - val_accuracy: 0.6809\n",
      "Epoch 55/100\n",
      "40/40 [==============================] - 0s 10ms/step - loss: 0.5862 - accuracy: 0.6905 - val_loss: 0.5876 - val_accuracy: 0.6896\n",
      "Epoch 56/100\n",
      "40/40 [==============================] - 0s 10ms/step - loss: 0.5839 - accuracy: 0.6906 - val_loss: 0.5904 - val_accuracy: 0.6875\n",
      "Epoch 57/100\n",
      "40/40 [==============================] - 0s 10ms/step - loss: 0.5834 - accuracy: 0.6908 - val_loss: 0.5935 - val_accuracy: 0.6849\n",
      "Epoch 58/100\n"
     ]
    },
    {
     "name": "stdout",
     "output_type": "stream",
     "text": [
      "40/40 [==============================] - 0s 10ms/step - loss: 0.5838 - accuracy: 0.6904 - val_loss: 0.5855 - val_accuracy: 0.6921\n",
      "Epoch 59/100\n",
      "40/40 [==============================] - 0s 10ms/step - loss: 0.5831 - accuracy: 0.6910 - val_loss: 0.5813 - val_accuracy: 0.6957\n",
      "Epoch 60/100\n",
      "40/40 [==============================] - 0s 10ms/step - loss: 0.5836 - accuracy: 0.6909 - val_loss: 0.6021 - val_accuracy: 0.6770\n",
      "Epoch 61/100\n",
      "40/40 [==============================] - 0s 10ms/step - loss: 0.5826 - accuracy: 0.6914 - val_loss: 0.5799 - val_accuracy: 0.6959\n",
      "Epoch 62/100\n",
      "40/40 [==============================] - 0s 10ms/step - loss: 0.5827 - accuracy: 0.6915 - val_loss: 0.5940 - val_accuracy: 0.6847\n",
      "Epoch 63/100\n",
      "40/40 [==============================] - 0s 9ms/step - loss: 0.5828 - accuracy: 0.6913 - val_loss: 0.5881 - val_accuracy: 0.6921\n",
      "Epoch 64/100\n",
      "40/40 [==============================] - 0s 10ms/step - loss: 0.5825 - accuracy: 0.6914 - val_loss: 0.5883 - val_accuracy: 0.6888\n",
      "Epoch 65/100\n",
      "40/40 [==============================] - 1s 13ms/step - loss: 0.5820 - accuracy: 0.6917 - val_loss: 0.6040 - val_accuracy: 0.6764\n",
      "Epoch 66/100\n",
      "40/40 [==============================] - 0s 10ms/step - loss: 0.5817 - accuracy: 0.6925 - val_loss: 0.5894 - val_accuracy: 0.6877\n",
      "Epoch 67/100\n",
      "40/40 [==============================] - 0s 10ms/step - loss: 0.5821 - accuracy: 0.6923 - val_loss: 0.5959 - val_accuracy: 0.6866\n",
      "Epoch 68/100\n",
      "40/40 [==============================] - 0s 10ms/step - loss: 0.5831 - accuracy: 0.6925 - val_loss: 0.5942 - val_accuracy: 0.6833\n",
      "Epoch 69/100\n",
      "40/40 [==============================] - 0s 10ms/step - loss: 0.5824 - accuracy: 0.6924 - val_loss: 0.5861 - val_accuracy: 0.6913\n",
      "Epoch 70/100\n",
      "40/40 [==============================] - 0s 9ms/step - loss: 0.5821 - accuracy: 0.6927 - val_loss: 0.5948 - val_accuracy: 0.6842\n",
      "Epoch 71/100\n",
      "40/40 [==============================] - 0s 10ms/step - loss: 0.5814 - accuracy: 0.6927 - val_loss: 0.5793 - val_accuracy: 0.6969\n",
      "Epoch 72/100\n",
      "40/40 [==============================] - 0s 10ms/step - loss: 0.5806 - accuracy: 0.6931 - val_loss: 0.5969 - val_accuracy: 0.6816\n",
      "Epoch 73/100\n",
      "40/40 [==============================] - 0s 10ms/step - loss: 0.5808 - accuracy: 0.6933 - val_loss: 0.5906 - val_accuracy: 0.6865\n",
      "Epoch 74/100\n",
      "40/40 [==============================] - 0s 10ms/step - loss: 0.5809 - accuracy: 0.6931 - val_loss: 0.6031 - val_accuracy: 0.6820\n",
      "Epoch 75/100\n",
      "40/40 [==============================] - 0s 10ms/step - loss: 0.5829 - accuracy: 0.6933 - val_loss: 0.5923 - val_accuracy: 0.6859\n",
      "Epoch 76/100\n",
      "40/40 [==============================] - 0s 10ms/step - loss: 0.5811 - accuracy: 0.6935 - val_loss: 0.6044 - val_accuracy: 0.6762\n",
      "Epoch 77/100\n",
      "40/40 [==============================] - 0s 10ms/step - loss: 0.5802 - accuracy: 0.6939 - val_loss: 0.6006 - val_accuracy: 0.6789\n",
      "Epoch 78/100\n",
      "40/40 [==============================] - 0s 10ms/step - loss: 0.5796 - accuracy: 0.6946 - val_loss: 0.5997 - val_accuracy: 0.6796\n",
      "Epoch 79/100\n",
      "40/40 [==============================] - 0s 10ms/step - loss: 0.5798 - accuracy: 0.6943 - val_loss: 0.5934 - val_accuracy: 0.6848\n",
      "Epoch 80/100\n",
      "40/40 [==============================] - 0s 10ms/step - loss: 0.5796 - accuracy: 0.6945 - val_loss: 0.5911 - val_accuracy: 0.6864\n",
      "Epoch 81/100\n",
      "40/40 [==============================] - 0s 10ms/step - loss: 0.5792 - accuracy: 0.6943 - val_loss: 0.5874 - val_accuracy: 0.6896\n",
      "Epoch 82/100\n",
      "40/40 [==============================] - 0s 9ms/step - loss: 0.5795 - accuracy: 0.6947 - val_loss: 0.5829 - val_accuracy: 0.6930\n",
      "Epoch 83/100\n",
      "40/40 [==============================] - 0s 9ms/step - loss: 0.5789 - accuracy: 0.6951 - val_loss: 0.5876 - val_accuracy: 0.6895\n",
      "Epoch 84/100\n",
      "40/40 [==============================] - 0s 10ms/step - loss: 0.5790 - accuracy: 0.6946 - val_loss: 0.5957 - val_accuracy: 0.6825\n",
      "Epoch 85/100\n",
      "40/40 [==============================] - 0s 10ms/step - loss: 0.5787 - accuracy: 0.6949 - val_loss: 0.5927 - val_accuracy: 0.6845\n",
      "Epoch 86/100\n",
      "40/40 [==============================] - 0s 10ms/step - loss: 0.5786 - accuracy: 0.6955 - val_loss: 0.5985 - val_accuracy: 0.6801\n",
      "Epoch 87/100\n",
      "40/40 [==============================] - 0s 10ms/step - loss: 0.5787 - accuracy: 0.6950 - val_loss: 0.5908 - val_accuracy: 0.6865\n",
      "Epoch 88/100\n",
      "40/40 [==============================] - 0s 10ms/step - loss: 0.5785 - accuracy: 0.6951 - val_loss: 0.5875 - val_accuracy: 0.6886\n",
      "Epoch 89/100\n",
      "40/40 [==============================] - 0s 12ms/step - loss: 0.5783 - accuracy: 0.6954 - val_loss: 0.5970 - val_accuracy: 0.6824\n",
      "Epoch 90/100\n",
      "40/40 [==============================] - 0s 11ms/step - loss: 0.5785 - accuracy: 0.6957 - val_loss: 0.5841 - val_accuracy: 0.6916\n",
      "Epoch 91/100\n",
      "40/40 [==============================] - 0s 11ms/step - loss: 0.5779 - accuracy: 0.6954 - val_loss: 0.5808 - val_accuracy: 0.6951\n",
      "Epoch 92/100\n",
      "40/40 [==============================] - 0s 10ms/step - loss: 0.5776 - accuracy: 0.6956 - val_loss: 0.5979 - val_accuracy: 0.6814\n",
      "Epoch 93/100\n",
      "40/40 [==============================] - 0s 10ms/step - loss: 0.5780 - accuracy: 0.6955 - val_loss: 0.5971 - val_accuracy: 0.6813\n",
      "Epoch 94/100\n",
      "40/40 [==============================] - 0s 10ms/step - loss: 0.5778 - accuracy: 0.6962 - val_loss: 0.5924 - val_accuracy: 0.6852\n",
      "Epoch 95/100\n",
      "40/40 [==============================] - 0s 10ms/step - loss: 0.5773 - accuracy: 0.6960 - val_loss: 0.5904 - val_accuracy: 0.6869\n",
      "Epoch 96/100\n",
      "40/40 [==============================] - 0s 10ms/step - loss: 0.5774 - accuracy: 0.6965 - val_loss: 0.5867 - val_accuracy: 0.6900\n",
      "Epoch 97/100\n",
      "40/40 [==============================] - 0s 10ms/step - loss: 0.5775 - accuracy: 0.6965 - val_loss: 0.5910 - val_accuracy: 0.6866\n",
      "Epoch 98/100\n",
      "40/40 [==============================] - 0s 10ms/step - loss: 0.5769 - accuracy: 0.6970 - val_loss: 0.5890 - val_accuracy: 0.6885\n",
      "Epoch 99/100\n",
      "40/40 [==============================] - 0s 10ms/step - loss: 0.5769 - accuracy: 0.6966 - val_loss: 0.6031 - val_accuracy: 0.6768\n",
      "Epoch 100/100\n",
      "40/40 [==============================] - 0s 10ms/step - loss: 0.5764 - accuracy: 0.6973 - val_loss: 0.5831 - val_accuracy: 0.6932\n"
     ]
    }
   ],
   "source": [
    "hist2 = model3.fit(x_train1, y_train1, validation_data=(x_val, y_val), epochs=100, batch_size=10000)"
   ]
  },
  {
   "cell_type": "code",
   "execution_count": 26,
   "metadata": {},
   "outputs": [
    {
     "data": {
      "image/png": "[encoded data removed]",
      "text/plain": [
       "<Figure size 432x288 with 1 Axes>"
      ]
     },
     "metadata": {
      "needs_background": "light"
     },
     "output_type": "display_data"
    }
   ],
   "source": [
    "# Get training and test loss histories\n",
    "training_loss = hist2.history['loss']\n",
    "val_loss = hist2.history['val_loss']\n",
    "\n",
    "# Create count of the number of epochs\n",
    "epoch_count = range(1, len(training_loss) + 1)\n",
    "\n",
    "# Visualize loss history\n",
    "plt.plot(epoch_count, training_loss, 'r--')\n",
    "plt.plot(epoch_count, val_loss, 'b-')\n",
    "plt.legend(['Training Loss', 'val_loss'])\n",
    "plt.xlabel('Epoch')\n",
    "plt.ylabel('val_loss')\n",
    "plt.show();"
   ]
  },
  {
   "cell_type": "code",
   "execution_count": 27,
   "metadata": {},
   "outputs": [
    {
     "data": {
      "text/plain": [
       "Text(33.0, 0.5, 'Actual label')"
      ]
     },
     "execution_count": 27,
     "metadata": {},
     "output_type": "execute_result"
    },
    {
     "data": {
      "image/png": "[encoded data removed]",
      "text/plain": [
       "<Figure size 432x288 with 2 Axes>"
      ]
     },
     "metadata": {
      "needs_background": "light"
     },
     "output_type": "display_data"
    }
   ],
   "source": [
    "y_pred = model3.predict(x_test) \n",
    "y_pred = [1 if x>0.5 else 0 for x in y_pred]\n",
    "mat = confusion_matrix(y_test, y_pred)\n",
    "labels = ['Legitimate', 'Fraudulent']\n",
    "sns.heatmap(mat/np.sum(mat), annot=True,fmt='.2%', cmap='Blues')\n",
    "plt.xlabel('Predicted label')\n",
    "plt.ylabel('Actual label')"
   ]
  },
  {
   "cell_type": "code",
   "execution_count": 28,
   "metadata": {},
   "outputs": [
    {
     "name": "stdout",
     "output_type": "stream",
     "text": [
      "              precision    recall  f1-score   support\n",
      "\n",
      "     Class 0       0.96      0.70      0.81     25517\n",
      "     Class 1       0.16      0.66      0.26      2160\n",
      "\n",
      "    accuracy                           0.70     27677\n",
      "   macro avg       0.56      0.68      0.53     27677\n",
      "weighted avg       0.90      0.70      0.77     27677\n",
      "\n",
      "f2 score: 0.5738030056861736\n",
      "AUC Score: 0.6808255552942919\n"
     ]
    }
   ],
   "source": [
    "print(classification_report(y_test, y_pred, target_names=['Class 0','Class 1']))\n",
    "print('f2 score: ' + str(fbeta_score(y_test, y_pred,average='macro', beta =2 )))\n",
    "fpr, tpr, thresholds = metrics.roc_curve(y_test,y_pred)\n",
    "print('AUC Score: ' + str(metrics.auc(fpr, tpr)))"
   ]
  },
  {
   "cell_type": "code",
   "execution_count": 29,
   "metadata": {},
   "outputs": [
    {
     "name": "stdout",
     "output_type": "stream",
     "text": [
      "Model: \"sequential_3\"\n",
      "_________________________________________________________________\n",
      " Layer (type)                Output Shape              Param #   \n",
      "=================================================================\n",
      " dense_7 (Dense)             (None, 120)               24240     \n",
      "                                                                 \n",
      " dropout_1 (Dropout)         (None, 120)               0         \n",
      "                                                                 \n",
      " dense_8 (Dense)             (None, 16)                1936      \n",
      "                                                                 \n",
      " dense_9 (Dense)             (None, 1)                 17        \n",
      "                                                                 \n",
      "=================================================================\n",
      "Total params: 26,193\n",
      "Trainable params: 26,193\n",
      "Non-trainable params: 0\n",
      "_________________________________________________________________\n"
     ]
    }
   ],
   "source": [
    "model4 = Sequential([\n",
    "    Dense(units=120, activation='relu', input_dim=len(df_scaled.columns)),\n",
    "    Dropout(0.5),\n",
    "    Dense(units=16, activation='relu'),\n",
    "    Dense(units=1, activation='sigmoid')])\n",
    "model4.compile(loss='binary_crossentropy', optimizer='adam', metrics=['accuracy'])\n",
    "model4.summary()"
   ]
  },
  {
   "cell_type": "code",
   "execution_count": 30,
   "metadata": {},
   "outputs": [
    {
     "name": "stdout",
     "output_type": "stream",
     "text": [
      "Epoch 1/100\n",
      "40/40 [==============================] - 2s 30ms/step - loss: 1.2230 - accuracy: 0.5329 - val_loss: 0.6837 - val_accuracy: 0.4915\n",
      "Epoch 2/100\n",
      "40/40 [==============================] - 1s 25ms/step - loss: 0.7391 - accuracy: 0.5756 - val_loss: 0.6453 - val_accuracy: 0.6947\n",
      "Epoch 3/100\n",
      "40/40 [==============================] - 1s 24ms/step - loss: 0.6732 - accuracy: 0.6052 - val_loss: 0.6296 - val_accuracy: 0.7591\n",
      "Epoch 4/100\n",
      "40/40 [==============================] - 1s 26ms/step - loss: 0.6565 - accuracy: 0.6204 - val_loss: 0.6261 - val_accuracy: 0.7734\n",
      "Epoch 5/100\n",
      "40/40 [==============================] - 1s 26ms/step - loss: 0.6460 - accuracy: 0.6297 - val_loss: 0.6157 - val_accuracy: 0.7734\n",
      "Epoch 6/100\n",
      "40/40 [==============================] - 1s 25ms/step - loss: 0.6392 - accuracy: 0.6381 - val_loss: 0.6128 - val_accuracy: 0.7613\n",
      "Epoch 7/100\n",
      "40/40 [==============================] - 1s 26ms/step - loss: 0.6329 - accuracy: 0.6443 - val_loss: 0.6047 - val_accuracy: 0.7541\n",
      "Epoch 8/100\n",
      "40/40 [==============================] - 1s 25ms/step - loss: 0.6278 - accuracy: 0.6503 - val_loss: 0.6023 - val_accuracy: 0.7407\n",
      "Epoch 9/100\n",
      "40/40 [==============================] - 1s 25ms/step - loss: 0.6246 - accuracy: 0.6547 - val_loss: 0.6008 - val_accuracy: 0.7359\n",
      "Epoch 10/100\n",
      "40/40 [==============================] - 1s 25ms/step - loss: 0.6207 - accuracy: 0.6581 - val_loss: 0.5985 - val_accuracy: 0.7333\n",
      "Epoch 11/100\n",
      "40/40 [==============================] - 1s 26ms/step - loss: 0.6181 - accuracy: 0.6608 - val_loss: 0.5944 - val_accuracy: 0.7350\n",
      "Epoch 12/100\n",
      "40/40 [==============================] - 1s 26ms/step - loss: 0.6159 - accuracy: 0.6632 - val_loss: 0.5951 - val_accuracy: 0.7278\n",
      "Epoch 13/100\n",
      "40/40 [==============================] - 1s 26ms/step - loss: 0.6138 - accuracy: 0.6649 - val_loss: 0.5915 - val_accuracy: 0.7306\n",
      "Epoch 14/100\n",
      "40/40 [==============================] - 1s 25ms/step - loss: 0.6124 - accuracy: 0.6669 - val_loss: 0.5890 - val_accuracy: 0.7268\n",
      "Epoch 15/100\n",
      "40/40 [==============================] - 1s 25ms/step - loss: 0.6101 - accuracy: 0.6681 - val_loss: 0.5927 - val_accuracy: 0.7239\n",
      "Epoch 16/100\n",
      "40/40 [==============================] - 1s 26ms/step - loss: 0.6088 - accuracy: 0.6694 - val_loss: 0.5826 - val_accuracy: 0.7260\n",
      "Epoch 17/100\n",
      "40/40 [==============================] - 1s 25ms/step - loss: 0.6067 - accuracy: 0.6697 - val_loss: 0.5914 - val_accuracy: 0.7207\n",
      "Epoch 18/100\n",
      "40/40 [==============================] - 1s 26ms/step - loss: 0.6049 - accuracy: 0.6719 - val_loss: 0.5829 - val_accuracy: 0.7210\n",
      "Epoch 19/100\n",
      "40/40 [==============================] - 1s 30ms/step - loss: 0.6030 - accuracy: 0.6729 - val_loss: 0.5826 - val_accuracy: 0.7199\n",
      "Epoch 20/100\n",
      "40/40 [==============================] - 1s 27ms/step - loss: 0.6015 - accuracy: 0.6735 - val_loss: 0.5809 - val_accuracy: 0.7170\n",
      "Epoch 21/100\n",
      "40/40 [==============================] - 1s 33ms/step - loss: 0.6001 - accuracy: 0.6745 - val_loss: 0.5860 - val_accuracy: 0.7164\n",
      "Epoch 22/100\n",
      "40/40 [==============================] - 1s 28ms/step - loss: 0.5989 - accuracy: 0.6764 - val_loss: 0.5856 - val_accuracy: 0.6912\n",
      "Epoch 23/100\n",
      "40/40 [==============================] - 1s 30ms/step - loss: 0.5974 - accuracy: 0.6831 - val_loss: 0.5823 - val_accuracy: 0.6919\n",
      "Epoch 24/100\n",
      "40/40 [==============================] - 1s 29ms/step - loss: 0.5959 - accuracy: 0.6842 - val_loss: 0.5750 - val_accuracy: 0.6971\n",
      "Epoch 25/100\n",
      "40/40 [==============================] - 1s 27ms/step - loss: 0.5944 - accuracy: 0.6856 - val_loss: 0.5791 - val_accuracy: 0.6897\n",
      "Epoch 26/100\n",
      "40/40 [==============================] - 1s 29ms/step - loss: 0.5937 - accuracy: 0.6865 - val_loss: 0.5767 - val_accuracy: 0.6945\n",
      "Epoch 27/100\n",
      "40/40 [==============================] - 1s 26ms/step - loss: 0.5928 - accuracy: 0.6872 - val_loss: 0.5797 - val_accuracy: 0.6869\n",
      "Epoch 28/100\n",
      "40/40 [==============================] - 1s 29ms/step - loss: 0.5911 - accuracy: 0.6887 - val_loss: 0.5722 - val_accuracy: 0.6957\n",
      "Epoch 29/100\n",
      "40/40 [==============================] - 1s 26ms/step - loss: 0.5908 - accuracy: 0.6892 - val_loss: 0.5743 - val_accuracy: 0.6929\n",
      "Epoch 30/100\n",
      "40/40 [==============================] - 1s 28ms/step - loss: 0.5895 - accuracy: 0.6902 - val_loss: 0.5772 - val_accuracy: 0.6863\n",
      "Epoch 31/100\n",
      "40/40 [==============================] - 1s 28ms/step - loss: 0.5886 - accuracy: 0.6906 - val_loss: 0.5749 - val_accuracy: 0.6880\n",
      "Epoch 32/100\n",
      "40/40 [==============================] - 1s 27ms/step - loss: 0.5870 - accuracy: 0.6916 - val_loss: 0.5744 - val_accuracy: 0.6922\n",
      "Epoch 33/100\n",
      "40/40 [==============================] - 1s 27ms/step - loss: 0.5863 - accuracy: 0.6921 - val_loss: 0.5721 - val_accuracy: 0.6937\n",
      "Epoch 34/100\n",
      "40/40 [==============================] - 1s 26ms/step - loss: 0.5856 - accuracy: 0.6930 - val_loss: 0.5775 - val_accuracy: 0.6888\n",
      "Epoch 35/100\n",
      "40/40 [==============================] - 1s 25ms/step - loss: 0.5839 - accuracy: 0.6942 - val_loss: 0.5672 - val_accuracy: 0.7012\n",
      "Epoch 36/100\n",
      "40/40 [==============================] - 1s 26ms/step - loss: 0.5830 - accuracy: 0.6952 - val_loss: 0.5795 - val_accuracy: 0.6841\n",
      "Epoch 37/100\n",
      "40/40 [==============================] - 1s 25ms/step - loss: 0.5822 - accuracy: 0.6952 - val_loss: 0.5674 - val_accuracy: 0.6936\n",
      "Epoch 38/100\n",
      "40/40 [==============================] - 1s 28ms/step - loss: 0.5807 - accuracy: 0.6964 - val_loss: 0.5646 - val_accuracy: 0.6968\n",
      "Epoch 39/100\n",
      "40/40 [==============================] - 1s 26ms/step - loss: 0.5804 - accuracy: 0.6970 - val_loss: 0.5672 - val_accuracy: 0.6951\n",
      "Epoch 40/100\n",
      "40/40 [==============================] - 1s 27ms/step - loss: 0.5793 - accuracy: 0.6980 - val_loss: 0.5664 - val_accuracy: 0.6950\n",
      "Epoch 41/100\n",
      "40/40 [==============================] - 1s 28ms/step - loss: 0.5781 - accuracy: 0.6982 - val_loss: 0.5702 - val_accuracy: 0.6922\n",
      "Epoch 42/100\n",
      "40/40 [==============================] - 1s 26ms/step - loss: 0.5775 - accuracy: 0.6989 - val_loss: 0.5676 - val_accuracy: 0.6969\n",
      "Epoch 43/100\n",
      "40/40 [==============================] - 1s 25ms/step - loss: 0.5766 - accuracy: 0.6999 - val_loss: 0.5683 - val_accuracy: 0.6934\n",
      "Epoch 44/100\n",
      "40/40 [==============================] - 1s 25ms/step - loss: 0.5755 - accuracy: 0.7003 - val_loss: 0.5753 - val_accuracy: 0.6886\n",
      "Epoch 45/100\n",
      "40/40 [==============================] - 1s 28ms/step - loss: 0.5747 - accuracy: 0.7014 - val_loss: 0.5639 - val_accuracy: 0.6964\n",
      "Epoch 46/100\n",
      "40/40 [==============================] - 1s 25ms/step - loss: 0.5738 - accuracy: 0.7016 - val_loss: 0.5617 - val_accuracy: 0.6985\n",
      "Epoch 47/100\n",
      "40/40 [==============================] - 1s 27ms/step - loss: 0.5728 - accuracy: 0.7020 - val_loss: 0.5707 - val_accuracy: 0.6885\n",
      "Epoch 48/100\n",
      "40/40 [==============================] - 1s 26ms/step - loss: 0.5716 - accuracy: 0.7032 - val_loss: 0.5757 - val_accuracy: 0.6875\n",
      "Epoch 49/100\n",
      "40/40 [==============================] - 1s 28ms/step - loss: 0.5713 - accuracy: 0.7027 - val_loss: 0.5714 - val_accuracy: 0.6903\n",
      "Epoch 50/100\n",
      "40/40 [==============================] - 1s 26ms/step - loss: 0.5701 - accuracy: 0.7043 - val_loss: 0.5666 - val_accuracy: 0.6976\n",
      "Epoch 51/100\n",
      "40/40 [==============================] - 1s 27ms/step - loss: 0.5694 - accuracy: 0.7048 - val_loss: 0.5755 - val_accuracy: 0.6850\n",
      "Epoch 52/100\n",
      "40/40 [==============================] - 1s 29ms/step - loss: 0.5683 - accuracy: 0.7056 - val_loss: 0.5672 - val_accuracy: 0.6898\n",
      "Epoch 53/100\n",
      "40/40 [==============================] - 1s 26ms/step - loss: 0.5674 - accuracy: 0.7064 - val_loss: 0.5657 - val_accuracy: 0.6875\n",
      "Epoch 54/100\n",
      "40/40 [==============================] - 1s 25ms/step - loss: 0.5669 - accuracy: 0.7066 - val_loss: 0.5653 - val_accuracy: 0.6930\n",
      "Epoch 55/100\n",
      "40/40 [==============================] - 1s 25ms/step - loss: 0.5663 - accuracy: 0.7066 - val_loss: 0.5619 - val_accuracy: 0.6940\n",
      "Epoch 56/100\n",
      "40/40 [==============================] - 1s 25ms/step - loss: 0.5651 - accuracy: 0.7079 - val_loss: 0.5555 - val_accuracy: 0.7032\n",
      "Epoch 57/100\n",
      "40/40 [==============================] - 1s 25ms/step - loss: 0.5647 - accuracy: 0.7084 - val_loss: 0.5674 - val_accuracy: 0.6891\n",
      "Epoch 58/100\n"
     ]
    },
    {
     "name": "stdout",
     "output_type": "stream",
     "text": [
      "40/40 [==============================] - 1s 25ms/step - loss: 0.5632 - accuracy: 0.7090 - val_loss: 0.5591 - val_accuracy: 0.7006\n",
      "Epoch 59/100\n",
      "40/40 [==============================] - 1s 26ms/step - loss: 0.5624 - accuracy: 0.7099 - val_loss: 0.5589 - val_accuracy: 0.7043\n",
      "Epoch 60/100\n",
      "40/40 [==============================] - 1s 26ms/step - loss: 0.5614 - accuracy: 0.7107 - val_loss: 0.5569 - val_accuracy: 0.7004\n",
      "Epoch 61/100\n",
      "40/40 [==============================] - 1s 25ms/step - loss: 0.5614 - accuracy: 0.7106 - val_loss: 0.5623 - val_accuracy: 0.6972\n",
      "Epoch 62/100\n",
      "40/40 [==============================] - 1s 27ms/step - loss: 0.5595 - accuracy: 0.7114 - val_loss: 0.5527 - val_accuracy: 0.7033\n",
      "Epoch 63/100\n",
      "40/40 [==============================] - 1s 27ms/step - loss: 0.5586 - accuracy: 0.7117 - val_loss: 0.5586 - val_accuracy: 0.7044\n",
      "Epoch 64/100\n",
      "40/40 [==============================] - 1s 27ms/step - loss: 0.5577 - accuracy: 0.7133 - val_loss: 0.5496 - val_accuracy: 0.7061\n",
      "Epoch 65/100\n",
      "40/40 [==============================] - 1s 25ms/step - loss: 0.5575 - accuracy: 0.7133 - val_loss: 0.5599 - val_accuracy: 0.7000\n",
      "Epoch 66/100\n",
      "40/40 [==============================] - 1s 25ms/step - loss: 0.5568 - accuracy: 0.7141 - val_loss: 0.5576 - val_accuracy: 0.6984\n",
      "Epoch 67/100\n",
      "40/40 [==============================] - 1s 25ms/step - loss: 0.5560 - accuracy: 0.7145 - val_loss: 0.5643 - val_accuracy: 0.6936\n",
      "Epoch 68/100\n",
      "40/40 [==============================] - 1s 26ms/step - loss: 0.5552 - accuracy: 0.7147 - val_loss: 0.5575 - val_accuracy: 0.6980\n",
      "Epoch 69/100\n",
      "40/40 [==============================] - 1s 25ms/step - loss: 0.5548 - accuracy: 0.7158 - val_loss: 0.5474 - val_accuracy: 0.7101\n",
      "Epoch 70/100\n",
      "40/40 [==============================] - 1s 26ms/step - loss: 0.5536 - accuracy: 0.7167 - val_loss: 0.5559 - val_accuracy: 0.7045\n",
      "Epoch 71/100\n",
      "40/40 [==============================] - 1s 26ms/step - loss: 0.5527 - accuracy: 0.7165 - val_loss: 0.5498 - val_accuracy: 0.7055\n",
      "Epoch 72/100\n",
      "40/40 [==============================] - 1s 25ms/step - loss: 0.5520 - accuracy: 0.7168 - val_loss: 0.5730 - val_accuracy: 0.6821\n",
      "Epoch 73/100\n",
      "40/40 [==============================] - 1s 25ms/step - loss: 0.5514 - accuracy: 0.7167 - val_loss: 0.5566 - val_accuracy: 0.6999\n",
      "Epoch 74/100\n",
      "40/40 [==============================] - 1s 29ms/step - loss: 0.5505 - accuracy: 0.7181 - val_loss: 0.5590 - val_accuracy: 0.6960\n",
      "Epoch 75/100\n",
      "40/40 [==============================] - 1s 29ms/step - loss: 0.5507 - accuracy: 0.7177 - val_loss: 0.5566 - val_accuracy: 0.6987\n",
      "Epoch 76/100\n",
      "40/40 [==============================] - 1s 26ms/step - loss: 0.5499 - accuracy: 0.7187 - val_loss: 0.5479 - val_accuracy: 0.7066\n",
      "Epoch 77/100\n",
      "40/40 [==============================] - 1s 26ms/step - loss: 0.5493 - accuracy: 0.7190 - val_loss: 0.5543 - val_accuracy: 0.7036\n",
      "Epoch 78/100\n",
      "40/40 [==============================] - 1s 26ms/step - loss: 0.5492 - accuracy: 0.7190 - val_loss: 0.5559 - val_accuracy: 0.6979\n",
      "Epoch 79/100\n",
      "40/40 [==============================] - 1s 27ms/step - loss: 0.5482 - accuracy: 0.7197 - val_loss: 0.5427 - val_accuracy: 0.7123\n",
      "Epoch 80/100\n",
      "40/40 [==============================] - 1s 26ms/step - loss: 0.5465 - accuracy: 0.7205 - val_loss: 0.5523 - val_accuracy: 0.7039\n",
      "Epoch 81/100\n",
      "40/40 [==============================] - 1s 28ms/step - loss: 0.5461 - accuracy: 0.7211 - val_loss: 0.5489 - val_accuracy: 0.7017\n",
      "Epoch 82/100\n",
      "40/40 [==============================] - 1s 31ms/step - loss: 0.5458 - accuracy: 0.7217 - val_loss: 0.5478 - val_accuracy: 0.7107\n",
      "Epoch 83/100\n",
      "40/40 [==============================] - 1s 28ms/step - loss: 0.5447 - accuracy: 0.7218 - val_loss: 0.5556 - val_accuracy: 0.7010\n",
      "Epoch 84/100\n",
      "40/40 [==============================] - 1s 28ms/step - loss: 0.5441 - accuracy: 0.7221 - val_loss: 0.5437 - val_accuracy: 0.7096\n",
      "Epoch 85/100\n",
      "40/40 [==============================] - 1s 27ms/step - loss: 0.5439 - accuracy: 0.7224 - val_loss: 0.5408 - val_accuracy: 0.7102\n",
      "Epoch 86/100\n",
      "40/40 [==============================] - 1s 27ms/step - loss: 0.5432 - accuracy: 0.7230 - val_loss: 0.5538 - val_accuracy: 0.7038\n",
      "Epoch 87/100\n",
      "40/40 [==============================] - 1s 27ms/step - loss: 0.5424 - accuracy: 0.7233 - val_loss: 0.5618 - val_accuracy: 0.6932\n",
      "Epoch 88/100\n",
      "40/40 [==============================] - 1s 29ms/step - loss: 0.5422 - accuracy: 0.7237 - val_loss: 0.5484 - val_accuracy: 0.7073\n",
      "Epoch 89/100\n",
      "40/40 [==============================] - 1s 27ms/step - loss: 0.5416 - accuracy: 0.7247 - val_loss: 0.5522 - val_accuracy: 0.7020\n",
      "Epoch 90/100\n",
      "40/40 [==============================] - 1s 26ms/step - loss: 0.5405 - accuracy: 0.7249 - val_loss: 0.5539 - val_accuracy: 0.6985\n",
      "Epoch 91/100\n",
      "40/40 [==============================] - 1s 25ms/step - loss: 0.5409 - accuracy: 0.7247 - val_loss: 0.5441 - val_accuracy: 0.7119\n",
      "Epoch 92/100\n",
      "40/40 [==============================] - 1s 26ms/step - loss: 0.5397 - accuracy: 0.7251 - val_loss: 0.5432 - val_accuracy: 0.7083\n",
      "Epoch 93/100\n",
      "40/40 [==============================] - 1s 26ms/step - loss: 0.5393 - accuracy: 0.7257 - val_loss: 0.5378 - val_accuracy: 0.7159\n",
      "Epoch 94/100\n",
      "40/40 [==============================] - 1s 27ms/step - loss: 0.5386 - accuracy: 0.7268 - val_loss: 0.5400 - val_accuracy: 0.7121\n",
      "Epoch 95/100\n",
      "40/40 [==============================] - 1s 28ms/step - loss: 0.5382 - accuracy: 0.7264 - val_loss: 0.5466 - val_accuracy: 0.7022\n",
      "Epoch 96/100\n",
      "40/40 [==============================] - 1s 27ms/step - loss: 0.5383 - accuracy: 0.7262 - val_loss: 0.5500 - val_accuracy: 0.7033\n",
      "Epoch 97/100\n",
      "40/40 [==============================] - 1s 27ms/step - loss: 0.5378 - accuracy: 0.7265 - val_loss: 0.5497 - val_accuracy: 0.7042\n",
      "Epoch 98/100\n",
      "40/40 [==============================] - 1s 28ms/step - loss: 0.5373 - accuracy: 0.7279 - val_loss: 0.5477 - val_accuracy: 0.7024\n",
      "Epoch 99/100\n",
      "40/40 [==============================] - 1s 30ms/step - loss: 0.5367 - accuracy: 0.7282 - val_loss: 0.5443 - val_accuracy: 0.7060\n",
      "Epoch 100/100\n",
      "40/40 [==============================] - 1s 28ms/step - loss: 0.5372 - accuracy: 0.7272 - val_loss: 0.5452 - val_accuracy: 0.7054\n"
     ]
    }
   ],
   "source": [
    "hist2 = model4.fit(x_train1, y_train1, validation_data=(x_val, y_val), epochs=100, batch_size=10000)"
   ]
  },
  {
   "cell_type": "code",
   "execution_count": 31,
   "metadata": {},
   "outputs": [
    {
     "data": {
      "image/png": "[encoded data removed]",
      "text/plain": [
       "<Figure size 432x288 with 1 Axes>"
      ]
     },
     "metadata": {
      "needs_background": "light"
     },
     "output_type": "display_data"
    }
   ],
   "source": [
    "# Get training and test loss histories\n",
    "training_loss = hist2.history['loss']\n",
    "val_loss = hist2.history['val_loss']\n",
    "\n",
    "# Create count of the number of epochs\n",
    "epoch_count = range(1, len(training_loss) + 1)\n",
    "\n",
    "# Visualize loss history\n",
    "plt.plot(epoch_count, training_loss, 'r--')\n",
    "plt.plot(epoch_count, val_loss, 'b-')\n",
    "plt.legend(['Training Loss', 'val_loss'])\n",
    "plt.xlabel('Epoch')\n",
    "plt.ylabel('val_loss')\n",
    "plt.show();"
   ]
  },
  {
   "cell_type": "code",
   "execution_count": 32,
   "metadata": {},
   "outputs": [
    {
     "data": {
      "text/plain": [
       "[<matplotlib.lines.Line2D at 0x20802261310>]"
      ]
     },
     "execution_count": 32,
     "metadata": {},
     "output_type": "execute_result"
    },
    {
     "data": {
      "image/png": "[encoded data removed]",
      "text/plain": [
       "<Figure size 432x288 with 1 Axes>"
      ]
     },
     "metadata": {
      "needs_background": "light"
     },
     "output_type": "display_data"
    }
   ],
   "source": [
    "y_predicted = model4.predict(x_test)\n",
    "k =[]\n",
    "f1score = []\n",
    "for i in range(1,21,1):\n",
    "    i = i*0.05\n",
    "    k.append(i)\n",
    "    y_pred = [1 if x>i else 0 for x in y_predicted]\n",
    "    f1score.append(fbeta_score(y_test, y_pred, average='macro',beta=2))\n",
    "plt.plot(k,f1score)"
   ]
  },
  {
   "cell_type": "code",
   "execution_count": 33,
   "metadata": {},
   "outputs": [
    {
     "data": {
      "text/plain": [
       "Text(33.0, 0.5, 'Actual label')"
      ]
     },
     "execution_count": 33,
     "metadata": {},
     "output_type": "execute_result"
    },
    {
     "data": {
      "image/png": "[encoded data removed]",
      "text/plain": [
       "<Figure size 432x288 with 2 Axes>"
      ]
     },
     "metadata": {
      "needs_background": "light"
     },
     "output_type": "display_data"
    }
   ],
   "source": [
    "y_pred = model4.predict(x_test) \n",
    "y_pred = [1 if x>0.7 else 0 for x in y_pred]\n",
    "mat = confusion_matrix(y_test, y_pred)\n",
    "labels = ['Legitimate', 'Fraudulent']\n",
    "sns.heatmap(mat/np.sum(mat), annot=True,fmt='.2%', cmap='Blues')\n",
    "plt.xlabel('Predicted label')\n",
    "plt.ylabel('Actual label')"
   ]
  },
  {
   "cell_type": "code",
   "execution_count": 34,
   "metadata": {},
   "outputs": [
    {
     "name": "stdout",
     "output_type": "stream",
     "text": [
      "              precision    recall  f1-score   support\n",
      "\n",
      "     Class 0       0.94      0.91      0.93     25517\n",
      "     Class 1       0.24      0.32      0.27      2160\n",
      "\n",
      "    accuracy                           0.87     27677\n",
      "   macro avg       0.59      0.62      0.60     27677\n",
      "weighted avg       0.89      0.87      0.88     27677\n",
      "\n",
      "f2 score: 0.6075848473188841\n",
      "AUC Score: 0.6153865469498184\n"
     ]
    }
   ],
   "source": [
    "print(classification_report(y_test, y_pred, target_names=['Class 0','Class 1']))\n",
    "print('f2 score: ' + str(fbeta_score(y_test, y_pred,average='macro', beta =2 )))\n",
    "fpr, tpr, thresholds = metrics.roc_curve(y_test,y_pred)\n",
    "print('AUC Score: ' + str(metrics.auc(fpr, tpr)))"
   ]
  },
  {
   "cell_type": "markdown",
   "metadata": {},
   "source": [
    "<font size=\"6\">  Model after BorderLineSmote Sampling"
   ]
  },
  {
   "cell_type": "code",
   "execution_count": 35,
   "metadata": {},
   "outputs": [],
   "source": [
    "from imblearn.over_sampling import BorderlineSMOTE\n",
    "sm = BorderlineSMOTE (random_state=2022, kind= 'borderline-2')\n",
    "x_train2, y_train2 = sm.fit_resample(x_train, y_train)\n"
   ]
  },
  {
   "cell_type": "code",
   "execution_count": 36,
   "metadata": {},
   "outputs": [
    {
     "name": "stdout",
     "output_type": "stream",
     "text": [
      "Model: \"sequential_4\"\n",
      "_________________________________________________________________\n",
      " Layer (type)                Output Shape              Param #   \n",
      "=================================================================\n",
      " dense_10 (Dense)            (None, 16)                3232      \n",
      "                                                                 \n",
      " dense_11 (Dense)            (None, 1)                 17        \n",
      "                                                                 \n",
      "=================================================================\n",
      "Total params: 3,249\n",
      "Trainable params: 3,249\n",
      "Non-trainable params: 0\n",
      "_________________________________________________________________\n"
     ]
    }
   ],
   "source": [
    "model6 = Sequential([\n",
    "    Dense(units=16, activation='relu', input_dim=len(df_scaled.columns)),\n",
    "    Dense(units=1, activation='sigmoid')])\n",
    "model6.compile(loss='binary_crossentropy', optimizer='adam', metrics=['accuracy'])\n",
    "model6.summary()"
   ]
  },
  {
   "cell_type": "code",
   "execution_count": 37,
   "metadata": {},
   "outputs": [
    {
     "name": "stdout",
     "output_type": "stream",
     "text": [
      "Epoch 1/100\n",
      "40/40 [==============================] - 1s 13ms/step - loss: 1.2895 - accuracy: 0.5526 - val_loss: 0.7053 - val_accuracy: 0.6722\n",
      "Epoch 2/100\n",
      "40/40 [==============================] - 0s 10ms/step - loss: 0.6597 - accuracy: 0.6360 - val_loss: 0.6470 - val_accuracy: 0.6523\n",
      "Epoch 3/100\n",
      "40/40 [==============================] - 0s 9ms/step - loss: 0.6042 - accuracy: 0.6814 - val_loss: 0.6188 - val_accuracy: 0.6798\n",
      "Epoch 4/100\n",
      "40/40 [==============================] - 0s 10ms/step - loss: 0.5822 - accuracy: 0.7027 - val_loss: 0.6133 - val_accuracy: 0.6842\n",
      "Epoch 5/100\n",
      "40/40 [==============================] - 0s 10ms/step - loss: 0.5687 - accuracy: 0.7146 - val_loss: 0.5864 - val_accuracy: 0.7038\n",
      "Epoch 6/100\n",
      "40/40 [==============================] - 0s 10ms/step - loss: 0.5593 - accuracy: 0.7207 - val_loss: 0.5814 - val_accuracy: 0.7081\n",
      "Epoch 7/100\n",
      "40/40 [==============================] - 0s 10ms/step - loss: 0.5529 - accuracy: 0.7248 - val_loss: 0.5705 - val_accuracy: 0.7150\n",
      "Epoch 8/100\n",
      "40/40 [==============================] - 0s 10ms/step - loss: 0.5487 - accuracy: 0.7269 - val_loss: 0.5732 - val_accuracy: 0.7118\n",
      "Epoch 9/100\n",
      "40/40 [==============================] - 0s 10ms/step - loss: 0.5453 - accuracy: 0.7291 - val_loss: 0.5693 - val_accuracy: 0.7140\n",
      "Epoch 10/100\n",
      "40/40 [==============================] - 0s 10ms/step - loss: 0.5415 - accuracy: 0.7311 - val_loss: 0.5710 - val_accuracy: 0.7097\n",
      "Epoch 11/100\n",
      "40/40 [==============================] - 0s 9ms/step - loss: 0.5393 - accuracy: 0.7320 - val_loss: 0.5644 - val_accuracy: 0.7129\n",
      "Epoch 12/100\n",
      "40/40 [==============================] - 0s 10ms/step - loss: 0.5367 - accuracy: 0.7334 - val_loss: 0.5653 - val_accuracy: 0.7116\n",
      "Epoch 13/100\n",
      "40/40 [==============================] - 0s 10ms/step - loss: 0.5350 - accuracy: 0.7346 - val_loss: 0.5538 - val_accuracy: 0.7159\n",
      "Epoch 14/100\n",
      "40/40 [==============================] - 0s 10ms/step - loss: 0.5325 - accuracy: 0.7354 - val_loss: 0.5646 - val_accuracy: 0.7077\n",
      "Epoch 15/100\n",
      "40/40 [==============================] - 0s 10ms/step - loss: 0.5306 - accuracy: 0.7364 - val_loss: 0.5521 - val_accuracy: 0.7148\n",
      "Epoch 16/100\n",
      "40/40 [==============================] - 0s 10ms/step - loss: 0.5289 - accuracy: 0.7373 - val_loss: 0.5547 - val_accuracy: 0.7121\n",
      "Epoch 17/100\n",
      "40/40 [==============================] - 0s 10ms/step - loss: 0.5277 - accuracy: 0.7380 - val_loss: 0.5561 - val_accuracy: 0.7111\n",
      "Epoch 18/100\n",
      "40/40 [==============================] - 0s 10ms/step - loss: 0.5260 - accuracy: 0.7392 - val_loss: 0.5571 - val_accuracy: 0.7099\n",
      "Epoch 19/100\n",
      "40/40 [==============================] - 0s 10ms/step - loss: 0.5246 - accuracy: 0.7401 - val_loss: 0.5508 - val_accuracy: 0.7142\n",
      "Epoch 20/100\n",
      "40/40 [==============================] - 0s 10ms/step - loss: 0.5235 - accuracy: 0.7410 - val_loss: 0.5526 - val_accuracy: 0.7122\n",
      "Epoch 21/100\n",
      "40/40 [==============================] - 0s 11ms/step - loss: 0.5218 - accuracy: 0.7418 - val_loss: 0.5509 - val_accuracy: 0.7135\n",
      "Epoch 22/100\n",
      "40/40 [==============================] - 0s 10ms/step - loss: 0.5207 - accuracy: 0.7429 - val_loss: 0.5368 - val_accuracy: 0.7236\n",
      "Epoch 23/100\n",
      "40/40 [==============================] - 0s 10ms/step - loss: 0.5190 - accuracy: 0.7438 - val_loss: 0.5490 - val_accuracy: 0.7141\n",
      "Epoch 24/100\n",
      "40/40 [==============================] - 0s 10ms/step - loss: 0.5175 - accuracy: 0.7448 - val_loss: 0.5378 - val_accuracy: 0.7213\n",
      "Epoch 25/100\n",
      "40/40 [==============================] - 0s 10ms/step - loss: 0.5166 - accuracy: 0.7457 - val_loss: 0.5552 - val_accuracy: 0.7116\n",
      "Epoch 26/100\n",
      "40/40 [==============================] - 0s 11ms/step - loss: 0.5172 - accuracy: 0.7463 - val_loss: 0.5250 - val_accuracy: 0.7291\n",
      "Epoch 27/100\n",
      "40/40 [==============================] - 0s 10ms/step - loss: 0.5144 - accuracy: 0.7471 - val_loss: 0.5430 - val_accuracy: 0.7174\n",
      "Epoch 28/100\n",
      "40/40 [==============================] - 0s 10ms/step - loss: 0.5128 - accuracy: 0.7482 - val_loss: 0.5413 - val_accuracy: 0.7186\n",
      "Epoch 29/100\n",
      "40/40 [==============================] - 0s 10ms/step - loss: 0.5118 - accuracy: 0.7484 - val_loss: 0.5425 - val_accuracy: 0.7163\n",
      "Epoch 30/100\n",
      "40/40 [==============================] - 0s 10ms/step - loss: 0.5107 - accuracy: 0.7493 - val_loss: 0.5346 - val_accuracy: 0.7224\n",
      "Epoch 31/100\n",
      "40/40 [==============================] - 0s 10ms/step - loss: 0.5096 - accuracy: 0.7497 - val_loss: 0.5354 - val_accuracy: 0.7224\n",
      "Epoch 32/100\n",
      "40/40 [==============================] - 0s 10ms/step - loss: 0.5088 - accuracy: 0.7504 - val_loss: 0.5373 - val_accuracy: 0.7212\n",
      "Epoch 33/100\n",
      "40/40 [==============================] - 0s 10ms/step - loss: 0.5076 - accuracy: 0.7514 - val_loss: 0.5407 - val_accuracy: 0.7181\n",
      "Epoch 34/100\n",
      "40/40 [==============================] - 0s 10ms/step - loss: 0.5066 - accuracy: 0.7518 - val_loss: 0.5302 - val_accuracy: 0.7261\n",
      "Epoch 35/100\n",
      "40/40 [==============================] - 0s 9ms/step - loss: 0.5061 - accuracy: 0.7522 - val_loss: 0.5313 - val_accuracy: 0.7256\n",
      "Epoch 36/100\n",
      "40/40 [==============================] - 0s 9ms/step - loss: 0.5057 - accuracy: 0.7524 - val_loss: 0.5252 - val_accuracy: 0.7303\n",
      "Epoch 37/100\n",
      "40/40 [==============================] - 0s 10ms/step - loss: 0.5049 - accuracy: 0.7532 - val_loss: 0.5386 - val_accuracy: 0.7209\n",
      "Epoch 38/100\n",
      "40/40 [==============================] - 0s 9ms/step - loss: 0.5039 - accuracy: 0.7538 - val_loss: 0.5268 - val_accuracy: 0.7277\n",
      "Epoch 39/100\n",
      "40/40 [==============================] - 0s 10ms/step - loss: 0.5027 - accuracy: 0.7545 - val_loss: 0.5310 - val_accuracy: 0.7252\n",
      "Epoch 40/100\n",
      "40/40 [==============================] - 0s 10ms/step - loss: 0.5015 - accuracy: 0.7552 - val_loss: 0.5272 - val_accuracy: 0.7280\n",
      "Epoch 41/100\n",
      "40/40 [==============================] - 0s 10ms/step - loss: 0.5008 - accuracy: 0.7557 - val_loss: 0.5274 - val_accuracy: 0.7289\n",
      "Epoch 42/100\n",
      "40/40 [==============================] - 0s 10ms/step - loss: 0.5003 - accuracy: 0.7561 - val_loss: 0.5330 - val_accuracy: 0.7244\n",
      "Epoch 43/100\n",
      "40/40 [==============================] - 0s 9ms/step - loss: 0.4994 - accuracy: 0.7567 - val_loss: 0.5285 - val_accuracy: 0.7279\n",
      "Epoch 44/100\n",
      "40/40 [==============================] - 0s 10ms/step - loss: 0.4988 - accuracy: 0.7572 - val_loss: 0.5347 - val_accuracy: 0.7226\n",
      "Epoch 45/100\n",
      "40/40 [==============================] - 0s 10ms/step - loss: 0.4983 - accuracy: 0.7577 - val_loss: 0.5283 - val_accuracy: 0.7276\n",
      "Epoch 46/100\n",
      "40/40 [==============================] - 0s 11ms/step - loss: 0.4982 - accuracy: 0.7581 - val_loss: 0.5299 - val_accuracy: 0.7282\n",
      "Epoch 47/100\n",
      "40/40 [==============================] - 0s 11ms/step - loss: 0.4974 - accuracy: 0.7587 - val_loss: 0.5322 - val_accuracy: 0.7247\n",
      "Epoch 48/100\n",
      "40/40 [==============================] - 0s 11ms/step - loss: 0.4964 - accuracy: 0.7592 - val_loss: 0.5310 - val_accuracy: 0.7251\n",
      "Epoch 49/100\n",
      "40/40 [==============================] - 0s 11ms/step - loss: 0.4959 - accuracy: 0.7598 - val_loss: 0.5299 - val_accuracy: 0.7279\n",
      "Epoch 50/100\n",
      "40/40 [==============================] - 0s 11ms/step - loss: 0.4959 - accuracy: 0.7598 - val_loss: 0.5223 - val_accuracy: 0.7320\n",
      "Epoch 51/100\n",
      "40/40 [==============================] - 0s 10ms/step - loss: 0.4951 - accuracy: 0.7605 - val_loss: 0.5317 - val_accuracy: 0.7251\n",
      "Epoch 52/100\n",
      "40/40 [==============================] - 0s 10ms/step - loss: 0.4943 - accuracy: 0.7611 - val_loss: 0.5357 - val_accuracy: 0.7266\n",
      "Epoch 53/100\n",
      "40/40 [==============================] - 0s 10ms/step - loss: 0.4935 - accuracy: 0.7615 - val_loss: 0.5260 - val_accuracy: 0.7295\n",
      "Epoch 54/100\n",
      "40/40 [==============================] - 0s 11ms/step - loss: 0.4933 - accuracy: 0.7617 - val_loss: 0.5303 - val_accuracy: 0.7262\n",
      "Epoch 55/100\n",
      "40/40 [==============================] - 0s 11ms/step - loss: 0.4920 - accuracy: 0.7625 - val_loss: 0.5339 - val_accuracy: 0.7249\n",
      "Epoch 56/100\n",
      "40/40 [==============================] - 0s 11ms/step - loss: 0.4916 - accuracy: 0.7627 - val_loss: 0.5404 - val_accuracy: 0.7199\n",
      "Epoch 57/100\n",
      "40/40 [==============================] - 0s 10ms/step - loss: 0.4911 - accuracy: 0.7631 - val_loss: 0.5240 - val_accuracy: 0.7304\n",
      "Epoch 58/100\n"
     ]
    },
    {
     "name": "stdout",
     "output_type": "stream",
     "text": [
      "40/40 [==============================] - 0s 11ms/step - loss: 0.4907 - accuracy: 0.7631 - val_loss: 0.5207 - val_accuracy: 0.7317\n",
      "Epoch 59/100\n",
      "40/40 [==============================] - 0s 10ms/step - loss: 0.4897 - accuracy: 0.7636 - val_loss: 0.5312 - val_accuracy: 0.7255\n",
      "Epoch 60/100\n",
      "40/40 [==============================] - 0s 10ms/step - loss: 0.4900 - accuracy: 0.7638 - val_loss: 0.5126 - val_accuracy: 0.7386\n",
      "Epoch 61/100\n",
      "40/40 [==============================] - 0s 11ms/step - loss: 0.4894 - accuracy: 0.7643 - val_loss: 0.5291 - val_accuracy: 0.7279\n",
      "Epoch 62/100\n",
      "40/40 [==============================] - 0s 11ms/step - loss: 0.4884 - accuracy: 0.7649 - val_loss: 0.5202 - val_accuracy: 0.7322\n",
      "Epoch 63/100\n",
      "40/40 [==============================] - 0s 12ms/step - loss: 0.4878 - accuracy: 0.7652 - val_loss: 0.5198 - val_accuracy: 0.7331\n",
      "Epoch 64/100\n",
      "40/40 [==============================] - 0s 12ms/step - loss: 0.4873 - accuracy: 0.7655 - val_loss: 0.5166 - val_accuracy: 0.7343\n",
      "Epoch 65/100\n",
      "40/40 [==============================] - 0s 11ms/step - loss: 0.4870 - accuracy: 0.7661 - val_loss: 0.5167 - val_accuracy: 0.7347\n",
      "Epoch 66/100\n",
      "40/40 [==============================] - 0s 10ms/step - loss: 0.4865 - accuracy: 0.7666 - val_loss: 0.5153 - val_accuracy: 0.7352\n",
      "Epoch 67/100\n",
      "40/40 [==============================] - 0s 10ms/step - loss: 0.4858 - accuracy: 0.7670 - val_loss: 0.5368 - val_accuracy: 0.7226\n",
      "Epoch 68/100\n",
      "40/40 [==============================] - 0s 10ms/step - loss: 0.4858 - accuracy: 0.7673 - val_loss: 0.5193 - val_accuracy: 0.7323\n",
      "Epoch 69/100\n",
      "40/40 [==============================] - 0s 10ms/step - loss: 0.4849 - accuracy: 0.7675 - val_loss: 0.5215 - val_accuracy: 0.7317\n",
      "Epoch 70/100\n",
      "40/40 [==============================] - 0s 10ms/step - loss: 0.4844 - accuracy: 0.7680 - val_loss: 0.5317 - val_accuracy: 0.7273\n",
      "Epoch 71/100\n",
      "40/40 [==============================] - 0s 10ms/step - loss: 0.4840 - accuracy: 0.7685 - val_loss: 0.5250 - val_accuracy: 0.7299\n",
      "Epoch 72/100\n",
      "40/40 [==============================] - 0s 10ms/step - loss: 0.4836 - accuracy: 0.7687 - val_loss: 0.5226 - val_accuracy: 0.7333\n",
      "Epoch 73/100\n",
      "40/40 [==============================] - 0s 10ms/step - loss: 0.4845 - accuracy: 0.7687 - val_loss: 0.5324 - val_accuracy: 0.7255\n",
      "Epoch 74/100\n",
      "40/40 [==============================] - 0s 10ms/step - loss: 0.4827 - accuracy: 0.7689 - val_loss: 0.5232 - val_accuracy: 0.7313\n",
      "Epoch 75/100\n",
      "40/40 [==============================] - 0s 10ms/step - loss: 0.4821 - accuracy: 0.7697 - val_loss: 0.5142 - val_accuracy: 0.7361\n",
      "Epoch 76/100\n",
      "40/40 [==============================] - 0s 10ms/step - loss: 0.4824 - accuracy: 0.7699 - val_loss: 0.5275 - val_accuracy: 0.7282\n",
      "Epoch 77/100\n",
      "40/40 [==============================] - 0s 10ms/step - loss: 0.4817 - accuracy: 0.7698 - val_loss: 0.5132 - val_accuracy: 0.7367\n",
      "Epoch 78/100\n",
      "40/40 [==============================] - 0s 10ms/step - loss: 0.4814 - accuracy: 0.7704 - val_loss: 0.5046 - val_accuracy: 0.7428\n",
      "Epoch 79/100\n",
      "40/40 [==============================] - 0s 10ms/step - loss: 0.4827 - accuracy: 0.7702 - val_loss: 0.5170 - val_accuracy: 0.7353\n",
      "Epoch 80/100\n",
      "40/40 [==============================] - 0s 10ms/step - loss: 0.4807 - accuracy: 0.7707 - val_loss: 0.5223 - val_accuracy: 0.7318\n",
      "Epoch 81/100\n",
      "40/40 [==============================] - 0s 10ms/step - loss: 0.4801 - accuracy: 0.7711 - val_loss: 0.5262 - val_accuracy: 0.7288\n",
      "Epoch 82/100\n",
      "40/40 [==============================] - 0s 10ms/step - loss: 0.4803 - accuracy: 0.7713 - val_loss: 0.5264 - val_accuracy: 0.7303\n",
      "Epoch 83/100\n",
      "40/40 [==============================] - 0s 10ms/step - loss: 0.4794 - accuracy: 0.7716 - val_loss: 0.5338 - val_accuracy: 0.7269\n",
      "Epoch 84/100\n",
      "40/40 [==============================] - 0s 10ms/step - loss: 0.4795 - accuracy: 0.7718 - val_loss: 0.5239 - val_accuracy: 0.7312\n",
      "Epoch 85/100\n",
      "40/40 [==============================] - 0s 10ms/step - loss: 0.4792 - accuracy: 0.7720 - val_loss: 0.5067 - val_accuracy: 0.7419\n",
      "Epoch 86/100\n",
      "40/40 [==============================] - 0s 10ms/step - loss: 0.4782 - accuracy: 0.7721 - val_loss: 0.5097 - val_accuracy: 0.7413\n",
      "Epoch 87/100\n",
      "40/40 [==============================] - 0s 10ms/step - loss: 0.4784 - accuracy: 0.7726 - val_loss: 0.5088 - val_accuracy: 0.7408\n",
      "Epoch 88/100\n",
      "40/40 [==============================] - 0s 10ms/step - loss: 0.4775 - accuracy: 0.7729 - val_loss: 0.5188 - val_accuracy: 0.7341\n",
      "Epoch 89/100\n",
      "40/40 [==============================] - 0s 11ms/step - loss: 0.4770 - accuracy: 0.7731 - val_loss: 0.5156 - val_accuracy: 0.7370\n",
      "Epoch 90/100\n",
      "40/40 [==============================] - 0s 11ms/step - loss: 0.4766 - accuracy: 0.7735 - val_loss: 0.5322 - val_accuracy: 0.7285\n",
      "Epoch 91/100\n",
      "40/40 [==============================] - 0s 11ms/step - loss: 0.4768 - accuracy: 0.7734 - val_loss: 0.5227 - val_accuracy: 0.7326\n",
      "Epoch 92/100\n",
      "40/40 [==============================] - 0s 11ms/step - loss: 0.4759 - accuracy: 0.7736 - val_loss: 0.5226 - val_accuracy: 0.7317\n",
      "Epoch 93/100\n",
      "40/40 [==============================] - 0s 12ms/step - loss: 0.4755 - accuracy: 0.7742 - val_loss: 0.5254 - val_accuracy: 0.7311\n",
      "Epoch 94/100\n",
      "40/40 [==============================] - 0s 10ms/step - loss: 0.4754 - accuracy: 0.7741 - val_loss: 0.5297 - val_accuracy: 0.7277\n",
      "Epoch 95/100\n",
      "40/40 [==============================] - 0s 10ms/step - loss: 0.4761 - accuracy: 0.7740 - val_loss: 0.5315 - val_accuracy: 0.7270\n",
      "Epoch 96/100\n",
      "40/40 [==============================] - 0s 9ms/step - loss: 0.4749 - accuracy: 0.7743 - val_loss: 0.5106 - val_accuracy: 0.7404\n",
      "Epoch 97/100\n",
      "40/40 [==============================] - 0s 9ms/step - loss: 0.4743 - accuracy: 0.7746 - val_loss: 0.5146 - val_accuracy: 0.7382\n",
      "Epoch 98/100\n",
      "40/40 [==============================] - 0s 9ms/step - loss: 0.4739 - accuracy: 0.7747 - val_loss: 0.5100 - val_accuracy: 0.7400\n",
      "Epoch 99/100\n",
      "40/40 [==============================] - 0s 10ms/step - loss: 0.4736 - accuracy: 0.7751 - val_loss: 0.5278 - val_accuracy: 0.7308\n",
      "Epoch 100/100\n",
      "40/40 [==============================] - 0s 9ms/step - loss: 0.4733 - accuracy: 0.7752 - val_loss: 0.5054 - val_accuracy: 0.7429\n"
     ]
    }
   ],
   "source": [
    "hist2 = model6.fit(x_train2, y_train2, validation_data=(x_val, y_val), epochs=100, batch_size=10000)"
   ]
  },
  {
   "cell_type": "code",
   "execution_count": 38,
   "metadata": {},
   "outputs": [
    {
     "data": {
      "image/png": "[encoded data removed]",
      "text/plain": [
       "<Figure size 432x288 with 1 Axes>"
      ]
     },
     "metadata": {
      "needs_background": "light"
     },
     "output_type": "display_data"
    }
   ],
   "source": [
    "# Get training and test loss histories\n",
    "training_loss = hist2.history['loss']\n",
    "val_loss = hist2.history['val_loss']\n",
    "\n",
    "# Create count of the number of epochs\n",
    "epoch_count = range(1, len(training_loss) + 1)\n",
    "\n",
    "# Visualize loss history\n",
    "plt.plot(epoch_count, training_loss, 'r--')\n",
    "plt.plot(epoch_count, val_loss, 'b-')\n",
    "plt.legend(['Training Loss', 'val_loss'])\n",
    "plt.xlabel('Epoch')\n",
    "plt.ylabel('val_loss')\n",
    "plt.show();"
   ]
  },
  {
   "cell_type": "code",
   "execution_count": 39,
   "metadata": {},
   "outputs": [
    {
     "data": {
      "text/plain": [
       "Text(33.0, 0.5, 'Actual label')"
      ]
     },
     "execution_count": 39,
     "metadata": {},
     "output_type": "execute_result"
    },
    {
     "data": {
      "image/png": "[encoded data removed]",
      "text/plain": [
       "<Figure size 432x288 with 2 Axes>"
      ]
     },
     "metadata": {
      "needs_background": "light"
     },
     "output_type": "display_data"
    }
   ],
   "source": [
    "y_pred = model6.predict(x_test) \n",
    "y_pred = [1 if x> 0.5 else 0 for x in y_pred]\n",
    "mat = confusion_matrix(y_test, y_pred)\n",
    "labels = ['Legitimate', 'Fraudulent']\n",
    "sns.heatmap(mat/np.sum(mat), annot=True,fmt='.2%', cmap='Blues')\n",
    "plt.xlabel('Predicted label')\n",
    "plt.ylabel('Actual label')"
   ]
  },
  {
   "cell_type": "code",
   "execution_count": 40,
   "metadata": {},
   "outputs": [
    {
     "name": "stdout",
     "output_type": "stream",
     "text": [
      "              precision    recall  f1-score   support\n",
      "\n",
      "     Class 0       0.95      0.77      0.85     25517\n",
      "     Class 1       0.17      0.55      0.26      2160\n",
      "\n",
      "    accuracy                           0.75     27677\n",
      "   macro avg       0.56      0.66      0.55     27677\n",
      "weighted avg       0.89      0.75      0.80     27677\n",
      "\n",
      "f2 score: 0.5878375894141334\n",
      "AUC Score: 0.6601380307101004\n"
     ]
    }
   ],
   "source": [
    "print(classification_report(y_test, y_pred, target_names=['Class 0','Class 1']))\n",
    "print('f2 score: ' + str(fbeta_score(y_test, y_pred,average='macro', beta =2 )))\n",
    "fpr, tpr, thresholds = metrics.roc_curve(y_test,y_pred)\n",
    "print('AUC Score: ' + str(metrics.auc(fpr, tpr)))"
   ]
  },
  {
   "cell_type": "code",
   "execution_count": 41,
   "metadata": {},
   "outputs": [
    {
     "name": "stdout",
     "output_type": "stream",
     "text": [
      "Model: \"sequential_5\"\n",
      "_________________________________________________________________\n",
      " Layer (type)                Output Shape              Param #   \n",
      "=================================================================\n",
      " dense_12 (Dense)            (None, 120)               24240     \n",
      "                                                                 \n",
      " dropout_2 (Dropout)         (None, 120)               0         \n",
      "                                                                 \n",
      " dense_13 (Dense)            (None, 16)                1936      \n",
      "                                                                 \n",
      " dense_14 (Dense)            (None, 1)                 17        \n",
      "                                                                 \n",
      "=================================================================\n",
      "Total params: 26,193\n",
      "Trainable params: 26,193\n",
      "Non-trainable params: 0\n",
      "_________________________________________________________________\n"
     ]
    }
   ],
   "source": [
    "model7 = Sequential([\n",
    "    Dense(units=120, activation='relu', input_dim=len(df_scaled.columns)),\n",
    "    Dropout(0.5),\n",
    "    Dense(units=16, activation='relu'),\n",
    "    Dense(units=1, activation='sigmoid')])\n",
    "model7.compile(loss='binary_crossentropy', optimizer='adam', metrics=['accuracy'])\n",
    "model7.summary()"
   ]
  },
  {
   "cell_type": "code",
   "execution_count": 42,
   "metadata": {},
   "outputs": [
    {
     "name": "stdout",
     "output_type": "stream",
     "text": [
      "Epoch 1/100\n",
      "40/40 [==============================] - 1s 28ms/step - loss: 1.1492 - accuracy: 0.5680 - val_loss: 0.6017 - val_accuracy: 0.6524\n",
      "Epoch 2/100\n",
      "40/40 [==============================] - 1s 24ms/step - loss: 0.7484 - accuracy: 0.6179 - val_loss: 0.6812 - val_accuracy: 0.4505\n",
      "Epoch 3/100\n",
      "40/40 [==============================] - 1s 24ms/step - loss: 0.6549 - accuracy: 0.6442 - val_loss: 0.6191 - val_accuracy: 0.6485\n",
      "Epoch 4/100\n",
      "40/40 [==============================] - 1s 25ms/step - loss: 0.6177 - accuracy: 0.6670 - val_loss: 0.6030 - val_accuracy: 0.6694\n",
      "Epoch 5/100\n",
      "40/40 [==============================] - 1s 27ms/step - loss: 0.5991 - accuracy: 0.6816 - val_loss: 0.5807 - val_accuracy: 0.6926\n",
      "Epoch 6/100\n",
      "40/40 [==============================] - 1s 25ms/step - loss: 0.5841 - accuracy: 0.6949 - val_loss: 0.5672 - val_accuracy: 0.7090\n",
      "Epoch 7/100\n",
      "40/40 [==============================] - 1s 24ms/step - loss: 0.5744 - accuracy: 0.7054 - val_loss: 0.5606 - val_accuracy: 0.7081\n",
      "Epoch 8/100\n",
      "40/40 [==============================] - 1s 24ms/step - loss: 0.5633 - accuracy: 0.7154 - val_loss: 0.5557 - val_accuracy: 0.7110\n",
      "Epoch 9/100\n",
      "40/40 [==============================] - 1s 24ms/step - loss: 0.5549 - accuracy: 0.7231 - val_loss: 0.5494 - val_accuracy: 0.7139\n",
      "Epoch 10/100\n",
      "40/40 [==============================] - 1s 24ms/step - loss: 0.5468 - accuracy: 0.7293 - val_loss: 0.5361 - val_accuracy: 0.7196\n",
      "Epoch 11/100\n",
      "40/40 [==============================] - 1s 24ms/step - loss: 0.5398 - accuracy: 0.7358 - val_loss: 0.5396 - val_accuracy: 0.7162\n",
      "Epoch 12/100\n",
      "40/40 [==============================] - 1s 24ms/step - loss: 0.5328 - accuracy: 0.7403 - val_loss: 0.5207 - val_accuracy: 0.7287\n",
      "Epoch 13/100\n",
      "40/40 [==============================] - 1s 24ms/step - loss: 0.5256 - accuracy: 0.7456 - val_loss: 0.5235 - val_accuracy: 0.7240\n",
      "Epoch 14/100\n",
      "40/40 [==============================] - 1s 24ms/step - loss: 0.5187 - accuracy: 0.7504 - val_loss: 0.5214 - val_accuracy: 0.7222\n",
      "Epoch 15/100\n",
      "40/40 [==============================] - 1s 24ms/step - loss: 0.5135 - accuracy: 0.7552 - val_loss: 0.4937 - val_accuracy: 0.7391\n",
      "Epoch 16/100\n",
      "40/40 [==============================] - 1s 26ms/step - loss: 0.5082 - accuracy: 0.7580 - val_loss: 0.4978 - val_accuracy: 0.7367\n",
      "Epoch 17/100\n",
      "40/40 [==============================] - 1s 25ms/step - loss: 0.5033 - accuracy: 0.7610 - val_loss: 0.4983 - val_accuracy: 0.7354\n",
      "Epoch 18/100\n",
      "40/40 [==============================] - 1s 24ms/step - loss: 0.4976 - accuracy: 0.7650 - val_loss: 0.4877 - val_accuracy: 0.7430\n",
      "Epoch 19/100\n",
      "40/40 [==============================] - 1s 26ms/step - loss: 0.4939 - accuracy: 0.7667 - val_loss: 0.5057 - val_accuracy: 0.7302\n",
      "Epoch 20/100\n",
      "40/40 [==============================] - 1s 26ms/step - loss: 0.4901 - accuracy: 0.7694 - val_loss: 0.4867 - val_accuracy: 0.7448\n",
      "Epoch 21/100\n",
      "40/40 [==============================] - 1s 26ms/step - loss: 0.4857 - accuracy: 0.7710 - val_loss: 0.4863 - val_accuracy: 0.7451\n",
      "Epoch 22/100\n",
      "40/40 [==============================] - 1s 26ms/step - loss: 0.4820 - accuracy: 0.7728 - val_loss: 0.4825 - val_accuracy: 0.7491\n",
      "Epoch 23/100\n",
      "40/40 [==============================] - 1s 26ms/step - loss: 0.4779 - accuracy: 0.7756 - val_loss: 0.4864 - val_accuracy: 0.7463\n",
      "Epoch 24/100\n",
      "40/40 [==============================] - 1s 25ms/step - loss: 0.4744 - accuracy: 0.7778 - val_loss: 0.4962 - val_accuracy: 0.7378\n",
      "Epoch 25/100\n",
      "40/40 [==============================] - 1s 24ms/step - loss: 0.4705 - accuracy: 0.7804 - val_loss: 0.4770 - val_accuracy: 0.7538\n",
      "Epoch 26/100\n",
      "40/40 [==============================] - 1s 27ms/step - loss: 0.4676 - accuracy: 0.7818 - val_loss: 0.4780 - val_accuracy: 0.7513\n",
      "Epoch 27/100\n",
      "40/40 [==============================] - 1s 24ms/step - loss: 0.4644 - accuracy: 0.7839 - val_loss: 0.4703 - val_accuracy: 0.7588\n",
      "Epoch 28/100\n",
      "40/40 [==============================] - 1s 24ms/step - loss: 0.4613 - accuracy: 0.7860 - val_loss: 0.4640 - val_accuracy: 0.7649\n",
      "Epoch 29/100\n",
      "40/40 [==============================] - 1s 26ms/step - loss: 0.4587 - accuracy: 0.7874 - val_loss: 0.4685 - val_accuracy: 0.7596\n",
      "Epoch 30/100\n",
      "40/40 [==============================] - 1s 27ms/step - loss: 0.4546 - accuracy: 0.7894 - val_loss: 0.4717 - val_accuracy: 0.7589\n",
      "Epoch 31/100\n",
      "40/40 [==============================] - 1s 26ms/step - loss: 0.4520 - accuracy: 0.7912 - val_loss: 0.4528 - val_accuracy: 0.7727\n",
      "Epoch 32/100\n",
      "40/40 [==============================] - 1s 26ms/step - loss: 0.4501 - accuracy: 0.7923 - val_loss: 0.4585 - val_accuracy: 0.7690\n",
      "Epoch 33/100\n",
      "40/40 [==============================] - 1s 27ms/step - loss: 0.4463 - accuracy: 0.7938 - val_loss: 0.4553 - val_accuracy: 0.7709\n",
      "Epoch 34/100\n",
      "40/40 [==============================] - 1s 25ms/step - loss: 0.4436 - accuracy: 0.7958 - val_loss: 0.4472 - val_accuracy: 0.7764\n",
      "Epoch 35/100\n",
      "40/40 [==============================] - 1s 25ms/step - loss: 0.4407 - accuracy: 0.7971 - val_loss: 0.4559 - val_accuracy: 0.7701\n",
      "Epoch 36/100\n",
      "40/40 [==============================] - 1s 26ms/step - loss: 0.4389 - accuracy: 0.7987 - val_loss: 0.4482 - val_accuracy: 0.7753\n",
      "Epoch 37/100\n",
      "40/40 [==============================] - 1s 26ms/step - loss: 0.4352 - accuracy: 0.8003 - val_loss: 0.4304 - val_accuracy: 0.7881\n",
      "Epoch 38/100\n",
      "40/40 [==============================] - 1s 25ms/step - loss: 0.4342 - accuracy: 0.8013 - val_loss: 0.4544 - val_accuracy: 0.7719\n",
      "Epoch 39/100\n",
      "40/40 [==============================] - 1s 26ms/step - loss: 0.4316 - accuracy: 0.8021 - val_loss: 0.4352 - val_accuracy: 0.7862\n",
      "Epoch 40/100\n",
      "40/40 [==============================] - 1s 25ms/step - loss: 0.4295 - accuracy: 0.8030 - val_loss: 0.4446 - val_accuracy: 0.7793\n",
      "Epoch 41/100\n",
      "40/40 [==============================] - 1s 28ms/step - loss: 0.4261 - accuracy: 0.8051 - val_loss: 0.4202 - val_accuracy: 0.7972\n",
      "Epoch 42/100\n",
      "40/40 [==============================] - 1s 27ms/step - loss: 0.4244 - accuracy: 0.8062 - val_loss: 0.4454 - val_accuracy: 0.7782\n",
      "Epoch 43/100\n",
      "40/40 [==============================] - 1s 28ms/step - loss: 0.4234 - accuracy: 0.8063 - val_loss: 0.4211 - val_accuracy: 0.7963\n",
      "Epoch 44/100\n",
      "40/40 [==============================] - 1s 27ms/step - loss: 0.4206 - accuracy: 0.8089 - val_loss: 0.4316 - val_accuracy: 0.7895\n",
      "Epoch 45/100\n",
      "40/40 [==============================] - 1s 25ms/step - loss: 0.4184 - accuracy: 0.8090 - val_loss: 0.4163 - val_accuracy: 0.8001\n",
      "Epoch 46/100\n",
      "40/40 [==============================] - 1s 25ms/step - loss: 0.4172 - accuracy: 0.8104 - val_loss: 0.4267 - val_accuracy: 0.7932\n",
      "Epoch 47/100\n",
      "40/40 [==============================] - 1s 25ms/step - loss: 0.4142 - accuracy: 0.8117 - val_loss: 0.4382 - val_accuracy: 0.7859\n",
      "Epoch 48/100\n",
      "40/40 [==============================] - 1s 25ms/step - loss: 0.4133 - accuracy: 0.8129 - val_loss: 0.4174 - val_accuracy: 0.8000\n",
      "Epoch 49/100\n",
      "40/40 [==============================] - 1s 24ms/step - loss: 0.4102 - accuracy: 0.8136 - val_loss: 0.4297 - val_accuracy: 0.7937\n",
      "Epoch 50/100\n",
      "40/40 [==============================] - 1s 27ms/step - loss: 0.4092 - accuracy: 0.8148 - val_loss: 0.4356 - val_accuracy: 0.7887\n",
      "Epoch 51/100\n",
      "40/40 [==============================] - 1s 27ms/step - loss: 0.4060 - accuracy: 0.8166 - val_loss: 0.4220 - val_accuracy: 0.7958\n",
      "Epoch 52/100\n",
      "40/40 [==============================] - 1s 25ms/step - loss: 0.4050 - accuracy: 0.8171 - val_loss: 0.4175 - val_accuracy: 0.8017\n",
      "Epoch 53/100\n",
      "40/40 [==============================] - 1s 25ms/step - loss: 0.4044 - accuracy: 0.8172 - val_loss: 0.4294 - val_accuracy: 0.7920\n",
      "Epoch 54/100\n",
      "40/40 [==============================] - 1s 26ms/step - loss: 0.4023 - accuracy: 0.8185 - val_loss: 0.4096 - val_accuracy: 0.8063\n",
      "Epoch 55/100\n",
      "40/40 [==============================] - 1s 25ms/step - loss: 0.4005 - accuracy: 0.8190 - val_loss: 0.4296 - val_accuracy: 0.7912\n",
      "Epoch 56/100\n",
      "40/40 [==============================] - 1s 25ms/step - loss: 0.4000 - accuracy: 0.8201 - val_loss: 0.4006 - val_accuracy: 0.8124\n",
      "Epoch 57/100\n",
      "40/40 [==============================] - 1s 24ms/step - loss: 0.3991 - accuracy: 0.8203 - val_loss: 0.4059 - val_accuracy: 0.8105\n",
      "Epoch 58/100\n"
     ]
    },
    {
     "name": "stdout",
     "output_type": "stream",
     "text": [
      "40/40 [==============================] - 1s 25ms/step - loss: 0.3971 - accuracy: 0.8207 - val_loss: 0.4007 - val_accuracy: 0.8128\n",
      "Epoch 59/100\n",
      "40/40 [==============================] - 1s 24ms/step - loss: 0.3945 - accuracy: 0.8232 - val_loss: 0.4116 - val_accuracy: 0.8055\n",
      "Epoch 60/100\n",
      "40/40 [==============================] - 1s 24ms/step - loss: 0.3935 - accuracy: 0.8234 - val_loss: 0.4074 - val_accuracy: 0.8075\n",
      "Epoch 61/100\n",
      "40/40 [==============================] - 1s 25ms/step - loss: 0.3920 - accuracy: 0.8243 - val_loss: 0.3996 - val_accuracy: 0.8148\n",
      "Epoch 62/100\n",
      "40/40 [==============================] - 1s 24ms/step - loss: 0.3896 - accuracy: 0.8247 - val_loss: 0.4188 - val_accuracy: 0.8001\n",
      "Epoch 63/100\n",
      "40/40 [==============================] - 1s 30ms/step - loss: 0.3882 - accuracy: 0.8257 - val_loss: 0.4077 - val_accuracy: 0.8071\n",
      "Epoch 64/100\n",
      "40/40 [==============================] - 1s 30ms/step - loss: 0.3882 - accuracy: 0.8265 - val_loss: 0.4017 - val_accuracy: 0.8120\n",
      "Epoch 65/100\n",
      "40/40 [==============================] - 1s 31ms/step - loss: 0.3872 - accuracy: 0.8266 - val_loss: 0.3903 - val_accuracy: 0.8219\n",
      "Epoch 66/100\n",
      "40/40 [==============================] - 1s 31ms/step - loss: 0.3868 - accuracy: 0.8264 - val_loss: 0.4040 - val_accuracy: 0.8107\n",
      "Epoch 67/100\n",
      "40/40 [==============================] - 1s 31ms/step - loss: 0.3855 - accuracy: 0.8270 - val_loss: 0.3993 - val_accuracy: 0.8155\n",
      "Epoch 68/100\n",
      "40/40 [==============================] - 1s 30ms/step - loss: 0.3843 - accuracy: 0.8281 - val_loss: 0.4038 - val_accuracy: 0.8126\n",
      "Epoch 69/100\n",
      "40/40 [==============================] - 1s 29ms/step - loss: 0.3814 - accuracy: 0.8301 - val_loss: 0.3990 - val_accuracy: 0.8154\n",
      "Epoch 70/100\n",
      "40/40 [==============================] - 1s 28ms/step - loss: 0.3806 - accuracy: 0.8303 - val_loss: 0.4044 - val_accuracy: 0.8119\n",
      "Epoch 71/100\n",
      "40/40 [==============================] - 1s 28ms/step - loss: 0.3809 - accuracy: 0.8299 - val_loss: 0.4028 - val_accuracy: 0.8136\n",
      "Epoch 72/100\n",
      "40/40 [==============================] - 1s 27ms/step - loss: 0.3795 - accuracy: 0.8310 - val_loss: 0.3933 - val_accuracy: 0.8188\n",
      "Epoch 73/100\n",
      "40/40 [==============================] - 1s 32ms/step - loss: 0.3782 - accuracy: 0.8312 - val_loss: 0.3883 - val_accuracy: 0.8241\n",
      "Epoch 74/100\n",
      "40/40 [==============================] - 1s 29ms/step - loss: 0.3778 - accuracy: 0.8320 - val_loss: 0.3923 - val_accuracy: 0.8214\n",
      "Epoch 75/100\n",
      "40/40 [==============================] - 1s 32ms/step - loss: 0.3759 - accuracy: 0.8328 - val_loss: 0.4006 - val_accuracy: 0.8136\n",
      "Epoch 76/100\n",
      "40/40 [==============================] - 1s 29ms/step - loss: 0.3752 - accuracy: 0.8329 - val_loss: 0.3981 - val_accuracy: 0.8175\n",
      "Epoch 77/100\n",
      "40/40 [==============================] - 1s 28ms/step - loss: 0.3747 - accuracy: 0.8334 - val_loss: 0.4043 - val_accuracy: 0.8131\n",
      "Epoch 78/100\n",
      "40/40 [==============================] - 1s 27ms/step - loss: 0.3720 - accuracy: 0.8340 - val_loss: 0.3969 - val_accuracy: 0.8193\n",
      "Epoch 79/100\n",
      "40/40 [==============================] - 1s 28ms/step - loss: 0.3725 - accuracy: 0.8350 - val_loss: 0.3973 - val_accuracy: 0.8166\n",
      "Epoch 80/100\n",
      "40/40 [==============================] - 2s 47ms/step - loss: 0.3715 - accuracy: 0.8354 - val_loss: 0.3791 - val_accuracy: 0.8308\n",
      "Epoch 81/100\n",
      "40/40 [==============================] - 1s 34ms/step - loss: 0.3705 - accuracy: 0.8356 - val_loss: 0.3901 - val_accuracy: 0.8235\n",
      "Epoch 82/100\n",
      "40/40 [==============================] - 1s 29ms/step - loss: 0.3699 - accuracy: 0.8360 - val_loss: 0.4048 - val_accuracy: 0.8128\n",
      "Epoch 83/100\n",
      "40/40 [==============================] - 1s 28ms/step - loss: 0.3693 - accuracy: 0.8358 - val_loss: 0.3819 - val_accuracy: 0.8291\n",
      "Epoch 84/100\n",
      "40/40 [==============================] - 1s 27ms/step - loss: 0.3680 - accuracy: 0.8368 - val_loss: 0.3699 - val_accuracy: 0.8379\n",
      "Epoch 85/100\n",
      "40/40 [==============================] - 1s 26ms/step - loss: 0.3682 - accuracy: 0.8371 - val_loss: 0.3821 - val_accuracy: 0.8295\n",
      "Epoch 86/100\n",
      "40/40 [==============================] - 1s 26ms/step - loss: 0.3674 - accuracy: 0.8372 - val_loss: 0.3654 - val_accuracy: 0.8406\n",
      "Epoch 87/100\n",
      "40/40 [==============================] - 1s 25ms/step - loss: 0.3668 - accuracy: 0.8382 - val_loss: 0.3888 - val_accuracy: 0.8225\n",
      "Epoch 88/100\n",
      "40/40 [==============================] - 1s 24ms/step - loss: 0.3653 - accuracy: 0.8386 - val_loss: 0.3919 - val_accuracy: 0.8206\n",
      "Epoch 89/100\n",
      "40/40 [==============================] - 1s 24ms/step - loss: 0.3644 - accuracy: 0.8390 - val_loss: 0.3881 - val_accuracy: 0.8252\n",
      "Epoch 90/100\n",
      "40/40 [==============================] - 1s 25ms/step - loss: 0.3645 - accuracy: 0.8386 - val_loss: 0.3841 - val_accuracy: 0.8266\n",
      "Epoch 91/100\n",
      "40/40 [==============================] - 1s 28ms/step - loss: 0.3633 - accuracy: 0.8401 - val_loss: 0.3852 - val_accuracy: 0.8251\n",
      "Epoch 92/100\n",
      "40/40 [==============================] - 1s 27ms/step - loss: 0.3621 - accuracy: 0.8412 - val_loss: 0.3868 - val_accuracy: 0.8258\n",
      "Epoch 93/100\n",
      "40/40 [==============================] - 1s 27ms/step - loss: 0.3612 - accuracy: 0.8406 - val_loss: 0.3719 - val_accuracy: 0.8365\n",
      "Epoch 94/100\n",
      "40/40 [==============================] - 1s 27ms/step - loss: 0.3619 - accuracy: 0.8404 - val_loss: 0.3709 - val_accuracy: 0.8365\n",
      "Epoch 95/100\n",
      "40/40 [==============================] - 1s 27ms/step - loss: 0.3597 - accuracy: 0.8415 - val_loss: 0.3816 - val_accuracy: 0.8295\n",
      "Epoch 96/100\n",
      "40/40 [==============================] - 1s 27ms/step - loss: 0.3610 - accuracy: 0.8407 - val_loss: 0.3822 - val_accuracy: 0.8287\n",
      "Epoch 97/100\n",
      "40/40 [==============================] - 1s 27ms/step - loss: 0.3583 - accuracy: 0.8422 - val_loss: 0.3681 - val_accuracy: 0.8390\n",
      "Epoch 98/100\n",
      "40/40 [==============================] - 1s 28ms/step - loss: 0.3579 - accuracy: 0.8427 - val_loss: 0.3826 - val_accuracy: 0.8291\n",
      "Epoch 99/100\n",
      "40/40 [==============================] - 1s 27ms/step - loss: 0.3577 - accuracy: 0.8425 - val_loss: 0.3798 - val_accuracy: 0.8301\n",
      "Epoch 100/100\n",
      "40/40 [==============================] - 1s 30ms/step - loss: 0.3577 - accuracy: 0.8424 - val_loss: 0.3674 - val_accuracy: 0.8399\n"
     ]
    }
   ],
   "source": [
    "hist2 = model7.fit(x_train2, y_train2, validation_data=(x_val, y_val), epochs=100, batch_size=10000)"
   ]
  },
  {
   "cell_type": "code",
   "execution_count": 43,
   "metadata": {},
   "outputs": [
    {
     "data": {
      "image/png": "[encoded data removed]",
      "text/plain": [
       "<Figure size 432x288 with 1 Axes>"
      ]
     },
     "metadata": {
      "needs_background": "light"
     },
     "output_type": "display_data"
    }
   ],
   "source": [
    "# Get training and test loss histories\n",
    "training_loss = hist2.history['loss']\n",
    "val_loss = hist2.history['val_loss']\n",
    "\n",
    "# Create count of the number of epochs\n",
    "epoch_count = range(1, len(training_loss) + 1)\n",
    "\n",
    "# Visualize loss history\n",
    "plt.plot(epoch_count, training_loss, 'r--')\n",
    "plt.plot(epoch_count, val_loss, 'b-')\n",
    "plt.legend(['Training Loss', 'val_loss'])\n",
    "plt.xlabel('Epoch')\n",
    "plt.ylabel('val_loss')\n",
    "plt.show();"
   ]
  },
  {
   "cell_type": "code",
   "execution_count": 44,
   "metadata": {},
   "outputs": [
    {
     "data": {
      "text/plain": [
       "[<matplotlib.lines.Line2D at 0x20815dd3760>]"
      ]
     },
     "execution_count": 44,
     "metadata": {},
     "output_type": "execute_result"
    },
    {
     "data": {
      "image/png": "[encoded data removed]",
      "text/plain": [
       "<Figure size 432x288 with 1 Axes>"
      ]
     },
     "metadata": {
      "needs_background": "light"
     },
     "output_type": "display_data"
    }
   ],
   "source": [
    "y_predicted = model7.predict(x_test)\n",
    "k =[]\n",
    "f1score = []\n",
    "for i in range(1,21,1):\n",
    "    i = i*0.05\n",
    "    k.append(i)\n",
    "    y_pred = [1 if x>i else 0 for x in y_predicted]\n",
    "    f1score.append(fbeta_score(y_test, y_pred, average='macro',beta=2))\n",
    "plt.plot(k,f1score)"
   ]
  },
  {
   "cell_type": "code",
   "execution_count": 45,
   "metadata": {},
   "outputs": [
    {
     "data": {
      "text/plain": [
       "Text(33.0, 0.5, 'Actual label')"
      ]
     },
     "execution_count": 45,
     "metadata": {},
     "output_type": "execute_result"
    },
    {
     "data": {
      "image/png": "[encoded data removed]",
      "text/plain": [
       "<Figure size 432x288 with 2 Axes>"
      ]
     },
     "metadata": {
      "needs_background": "light"
     },
     "output_type": "display_data"
    }
   ],
   "source": [
    "y_pred = model7.predict(x_test) \n",
    "y_pred = [1 if x> 0.45 else 0 for x in y_pred]\n",
    "mat = confusion_matrix(y_test, y_pred)\n",
    "labels = ['Legitimate', 'Fraudulent']\n",
    "sns.heatmap(mat/np.sum(mat), annot=True,fmt='.2%', cmap='Blues')\n",
    "plt.xlabel('Predicted label')\n",
    "plt.ylabel('Actual label')"
   ]
  },
  {
   "cell_type": "code",
   "execution_count": 46,
   "metadata": {},
   "outputs": [
    {
     "name": "stdout",
     "output_type": "stream",
     "text": [
      "              precision    recall  f1-score   support\n",
      "\n",
      "     Class 0       0.94      0.86      0.90     25517\n",
      "     Class 1       0.19      0.40      0.26      2160\n",
      "\n",
      "    accuracy                           0.82     27677\n",
      "   macro avg       0.57      0.63      0.58     27677\n",
      "weighted avg       0.89      0.82      0.85     27677\n",
      "\n",
      "f2 score: 0.6034855365532176\n",
      "AUC Score: 0.630984844526307\n"
     ]
    }
   ],
   "source": [
    "print(classification_report(y_test, y_pred, target_names=['Class 0','Class 1']))\n",
    "print('f2 score: ' + str(fbeta_score(y_test, y_pred,average='macro', beta =2 )))\n",
    "fpr, tpr, thresholds = metrics.roc_curve(y_test,y_pred)\n",
    "print('AUC Score: ' + str(metrics.auc(fpr, tpr)))"
   ]
  },
  {
   "cell_type": "markdown",
   "metadata": {},
   "source": [
    "<font size=\"6\"> Model after UnderSampling"
   ]
  },
  {
   "cell_type": "code",
   "execution_count": 47,
   "metadata": {},
   "outputs": [],
   "source": [
    "undersample = RandomUnderSampler(sampling_strategy=1)\n",
    "x_train3, y_train3 = undersample.fit_resample(x_train, y_train)"
   ]
  },
  {
   "cell_type": "code",
   "execution_count": 48,
   "metadata": {},
   "outputs": [
    {
     "name": "stdout",
     "output_type": "stream",
     "text": [
      "Model: \"sequential_6\"\n",
      "_________________________________________________________________\n",
      " Layer (type)                Output Shape              Param #   \n",
      "=================================================================\n",
      " dense_15 (Dense)            (None, 120)               24240     \n",
      "                                                                 \n",
      " dropout_3 (Dropout)         (None, 120)               0         \n",
      "                                                                 \n",
      " dense_16 (Dense)            (None, 16)                1936      \n",
      "                                                                 \n",
      " dense_17 (Dense)            (None, 1)                 17        \n",
      "                                                                 \n",
      "=================================================================\n",
      "Total params: 26,193\n",
      "Trainable params: 26,193\n",
      "Non-trainable params: 0\n",
      "_________________________________________________________________\n"
     ]
    }
   ],
   "source": [
    "model8 = Sequential([\n",
    "    Dense(units=120, activation='relu', input_dim=len(df_scaled.columns)),\n",
    "    Dropout(0.5),\n",
    "    Dense(units=16, activation='relu'),\n",
    "    Dense(units=1, activation='sigmoid')])\n",
    "model8.compile(loss='binary_crossentropy', optimizer='adam', metrics=['accuracy'])\n",
    "model8.summary()"
   ]
  },
  {
   "cell_type": "code",
   "execution_count": 49,
   "metadata": {},
   "outputs": [
    {
     "name": "stdout",
     "output_type": "stream",
     "text": [
      "Epoch 1/100\n",
      "4/4 [==============================] - 1s 96ms/step - loss: 2.0782 - accuracy: 0.5037 - val_loss: 1.2734 - val_accuracy: 0.5346\n",
      "Epoch 2/100\n",
      "4/4 [==============================] - 0s 46ms/step - loss: 1.4950 - accuracy: 0.5084 - val_loss: 0.5261 - val_accuracy: 0.8361\n",
      "Epoch 3/100\n",
      "4/4 [==============================] - 0s 45ms/step - loss: 1.4012 - accuracy: 0.5267 - val_loss: 0.5263 - val_accuracy: 0.8074\n",
      "Epoch 4/100\n",
      "4/4 [==============================] - 0s 48ms/step - loss: 1.3278 - accuracy: 0.5384 - val_loss: 0.5788 - val_accuracy: 0.7242\n",
      "Epoch 5/100\n",
      "4/4 [==============================] - 0s 47ms/step - loss: 1.2490 - accuracy: 0.5458 - val_loss: 0.6457 - val_accuracy: 0.6107\n",
      "Epoch 6/100\n",
      "4/4 [==============================] - 0s 46ms/step - loss: 1.2020 - accuracy: 0.5521 - val_loss: 0.7463 - val_accuracy: 0.5514\n",
      "Epoch 7/100\n",
      "4/4 [==============================] - 0s 45ms/step - loss: 1.1573 - accuracy: 0.5531 - val_loss: 0.7727 - val_accuracy: 0.5744\n",
      "Epoch 8/100\n",
      "4/4 [==============================] - 0s 46ms/step - loss: 1.1106 - accuracy: 0.5577 - val_loss: 0.6925 - val_accuracy: 0.6400\n",
      "Epoch 9/100\n",
      "4/4 [==============================] - 0s 45ms/step - loss: 1.0511 - accuracy: 0.5617 - val_loss: 0.6216 - val_accuracy: 0.7079\n",
      "Epoch 10/100\n",
      "4/4 [==============================] - 0s 45ms/step - loss: 1.0039 - accuracy: 0.5676 - val_loss: 0.5905 - val_accuracy: 0.7466\n",
      "Epoch 11/100\n",
      "4/4 [==============================] - 0s 44ms/step - loss: 0.9626 - accuracy: 0.5756 - val_loss: 0.5825 - val_accuracy: 0.7507\n",
      "Epoch 12/100\n",
      "4/4 [==============================] - 0s 43ms/step - loss: 0.9418 - accuracy: 0.5815 - val_loss: 0.5869 - val_accuracy: 0.7406\n",
      "Epoch 13/100\n",
      "4/4 [==============================] - 0s 44ms/step - loss: 0.9059 - accuracy: 0.5878 - val_loss: 0.5958 - val_accuracy: 0.7311\n",
      "Epoch 14/100\n",
      "4/4 [==============================] - 0s 44ms/step - loss: 0.8862 - accuracy: 0.5866 - val_loss: 0.6279 - val_accuracy: 0.7141\n",
      "Epoch 15/100\n",
      "4/4 [==============================] - 0s 44ms/step - loss: 0.8341 - accuracy: 0.5957 - val_loss: 0.6454 - val_accuracy: 0.7090\n",
      "Epoch 16/100\n",
      "4/4 [==============================] - 0s 43ms/step - loss: 0.8312 - accuracy: 0.5976 - val_loss: 0.6637 - val_accuracy: 0.7012\n",
      "Epoch 17/100\n",
      "4/4 [==============================] - 0s 43ms/step - loss: 0.8136 - accuracy: 0.5971 - val_loss: 0.6730 - val_accuracy: 0.7034\n",
      "Epoch 18/100\n",
      "4/4 [==============================] - 0s 44ms/step - loss: 0.7990 - accuracy: 0.6007 - val_loss: 0.6683 - val_accuracy: 0.7178\n",
      "Epoch 19/100\n",
      "4/4 [==============================] - 0s 44ms/step - loss: 0.7871 - accuracy: 0.6033 - val_loss: 0.6546 - val_accuracy: 0.7335\n",
      "Epoch 20/100\n",
      "4/4 [==============================] - 0s 44ms/step - loss: 0.7722 - accuracy: 0.6071 - val_loss: 0.6503 - val_accuracy: 0.7428\n",
      "Epoch 21/100\n",
      "4/4 [==============================] - 0s 43ms/step - loss: 0.7793 - accuracy: 0.6092 - val_loss: 0.6568 - val_accuracy: 0.7459\n",
      "Epoch 22/100\n",
      "4/4 [==============================] - 0s 43ms/step - loss: 0.7556 - accuracy: 0.6149 - val_loss: 0.6676 - val_accuracy: 0.7448\n",
      "Epoch 23/100\n",
      "4/4 [==============================] - 0s 42ms/step - loss: 0.7377 - accuracy: 0.6079 - val_loss: 0.6603 - val_accuracy: 0.7490\n",
      "Epoch 24/100\n",
      "4/4 [==============================] - 0s 44ms/step - loss: 0.7147 - accuracy: 0.6153 - val_loss: 0.6639 - val_accuracy: 0.7422\n",
      "Epoch 25/100\n",
      "4/4 [==============================] - 0s 44ms/step - loss: 0.7182 - accuracy: 0.6140 - val_loss: 0.6771 - val_accuracy: 0.7292\n",
      "Epoch 26/100\n",
      "4/4 [==============================] - 0s 43ms/step - loss: 0.7311 - accuracy: 0.6173 - val_loss: 0.6862 - val_accuracy: 0.7215\n",
      "Epoch 27/100\n",
      "4/4 [==============================] - 0s 42ms/step - loss: 0.7232 - accuracy: 0.6234 - val_loss: 0.6924 - val_accuracy: 0.7172\n",
      "Epoch 28/100\n",
      "4/4 [==============================] - 0s 42ms/step - loss: 0.7143 - accuracy: 0.6205 - val_loss: 0.6941 - val_accuracy: 0.7188\n",
      "Epoch 29/100\n",
      "4/4 [==============================] - 0s 43ms/step - loss: 0.7160 - accuracy: 0.6242 - val_loss: 0.6920 - val_accuracy: 0.7215\n",
      "Epoch 30/100\n",
      "4/4 [==============================] - 0s 42ms/step - loss: 0.7016 - accuracy: 0.6249 - val_loss: 0.6884 - val_accuracy: 0.7265\n",
      "Epoch 31/100\n",
      "4/4 [==============================] - 0s 43ms/step - loss: 0.7072 - accuracy: 0.6235 - val_loss: 0.6957 - val_accuracy: 0.7221\n",
      "Epoch 32/100\n",
      "4/4 [==============================] - 0s 44ms/step - loss: 0.6973 - accuracy: 0.6274 - val_loss: 0.7006 - val_accuracy: 0.7214\n",
      "Epoch 33/100\n",
      "4/4 [==============================] - 0s 43ms/step - loss: 0.7036 - accuracy: 0.6271 - val_loss: 0.6966 - val_accuracy: 0.7265\n",
      "Epoch 34/100\n",
      "4/4 [==============================] - 0s 44ms/step - loss: 0.6979 - accuracy: 0.6303 - val_loss: 0.6948 - val_accuracy: 0.7299\n",
      "Epoch 35/100\n",
      "4/4 [==============================] - 0s 42ms/step - loss: 0.6819 - accuracy: 0.6305 - val_loss: 0.6770 - val_accuracy: 0.7420\n",
      "Epoch 36/100\n",
      "4/4 [==============================] - 0s 43ms/step - loss: 0.6870 - accuracy: 0.6294 - val_loss: 0.6648 - val_accuracy: 0.7482\n",
      "Epoch 37/100\n",
      "4/4 [==============================] - 0s 42ms/step - loss: 0.6806 - accuracy: 0.6337 - val_loss: 0.6758 - val_accuracy: 0.7386\n",
      "Epoch 38/100\n",
      "4/4 [==============================] - 0s 43ms/step - loss: 0.6809 - accuracy: 0.6346 - val_loss: 0.6887 - val_accuracy: 0.7291\n",
      "Epoch 39/100\n",
      "4/4 [==============================] - 0s 44ms/step - loss: 0.6823 - accuracy: 0.6357 - val_loss: 0.6852 - val_accuracy: 0.7299\n",
      "Epoch 40/100\n",
      "4/4 [==============================] - 0s 42ms/step - loss: 0.6701 - accuracy: 0.6399 - val_loss: 0.6740 - val_accuracy: 0.7359\n",
      "Epoch 41/100\n",
      "4/4 [==============================] - 0s 43ms/step - loss: 0.6635 - accuracy: 0.6369 - val_loss: 0.6640 - val_accuracy: 0.7402\n",
      "Epoch 42/100\n",
      "4/4 [==============================] - 0s 42ms/step - loss: 0.6720 - accuracy: 0.6435 - val_loss: 0.6606 - val_accuracy: 0.7412\n",
      "Epoch 43/100\n",
      "4/4 [==============================] - 0s 44ms/step - loss: 0.6675 - accuracy: 0.6404 - val_loss: 0.6631 - val_accuracy: 0.7355\n",
      "Epoch 44/100\n",
      "4/4 [==============================] - 0s 43ms/step - loss: 0.6659 - accuracy: 0.6395 - val_loss: 0.6618 - val_accuracy: 0.7346\n",
      "Epoch 45/100\n",
      "4/4 [==============================] - 0s 43ms/step - loss: 0.6699 - accuracy: 0.6425 - val_loss: 0.6620 - val_accuracy: 0.7345\n",
      "Epoch 46/100\n",
      "4/4 [==============================] - 0s 43ms/step - loss: 0.6724 - accuracy: 0.6413 - val_loss: 0.6602 - val_accuracy: 0.7349\n",
      "Epoch 47/100\n",
      "4/4 [==============================] - 0s 44ms/step - loss: 0.6593 - accuracy: 0.6440 - val_loss: 0.6488 - val_accuracy: 0.7402\n",
      "Epoch 48/100\n",
      "4/4 [==============================] - 0s 42ms/step - loss: 0.6685 - accuracy: 0.6460 - val_loss: 0.6492 - val_accuracy: 0.7376\n",
      "Epoch 49/100\n",
      "4/4 [==============================] - 0s 43ms/step - loss: 0.6587 - accuracy: 0.6474 - val_loss: 0.6565 - val_accuracy: 0.7300\n",
      "Epoch 50/100\n",
      "4/4 [==============================] - 0s 43ms/step - loss: 0.6549 - accuracy: 0.6475 - val_loss: 0.6704 - val_accuracy: 0.7159\n",
      "Epoch 51/100\n",
      "4/4 [==============================] - 0s 45ms/step - loss: 0.6569 - accuracy: 0.6462 - val_loss: 0.6801 - val_accuracy: 0.7051\n",
      "Epoch 52/100\n",
      "4/4 [==============================] - 0s 43ms/step - loss: 0.6569 - accuracy: 0.6484 - val_loss: 0.6755 - val_accuracy: 0.7048\n",
      "Epoch 53/100\n",
      "4/4 [==============================] - 0s 43ms/step - loss: 0.6587 - accuracy: 0.6479 - val_loss: 0.6681 - val_accuracy: 0.7074\n",
      "Epoch 54/100\n",
      "4/4 [==============================] - 0s 43ms/step - loss: 0.6490 - accuracy: 0.6494 - val_loss: 0.6666 - val_accuracy: 0.7074\n",
      "Epoch 55/100\n",
      "4/4 [==============================] - 0s 42ms/step - loss: 0.6538 - accuracy: 0.6488 - val_loss: 0.6708 - val_accuracy: 0.7037\n",
      "Epoch 56/100\n",
      "4/4 [==============================] - 0s 43ms/step - loss: 0.6508 - accuracy: 0.6498 - val_loss: 0.6528 - val_accuracy: 0.7122\n",
      "Epoch 57/100\n",
      "4/4 [==============================] - 0s 42ms/step - loss: 0.6458 - accuracy: 0.6508 - val_loss: 0.6403 - val_accuracy: 0.7190\n",
      "Epoch 58/100\n",
      "4/4 [==============================] - 0s 43ms/step - loss: 0.6423 - accuracy: 0.6536 - val_loss: 0.6397 - val_accuracy: 0.7170\n",
      "Epoch 59/100\n"
     ]
    },
    {
     "name": "stdout",
     "output_type": "stream",
     "text": [
      "4/4 [==============================] - 0s 42ms/step - loss: 0.6477 - accuracy: 0.6492 - val_loss: 0.6423 - val_accuracy: 0.7143\n",
      "Epoch 60/100\n",
      "4/4 [==============================] - 0s 42ms/step - loss: 0.6440 - accuracy: 0.6546 - val_loss: 0.6420 - val_accuracy: 0.7145\n",
      "Epoch 61/100\n",
      "4/4 [==============================] - 0s 43ms/step - loss: 0.6415 - accuracy: 0.6531 - val_loss: 0.6360 - val_accuracy: 0.7170\n",
      "Epoch 62/100\n",
      "4/4 [==============================] - 0s 44ms/step - loss: 0.6381 - accuracy: 0.6548 - val_loss: 0.6329 - val_accuracy: 0.7175\n",
      "Epoch 63/100\n",
      "4/4 [==============================] - 0s 42ms/step - loss: 0.6410 - accuracy: 0.6552 - val_loss: 0.6295 - val_accuracy: 0.7177\n",
      "Epoch 64/100\n",
      "4/4 [==============================] - 0s 43ms/step - loss: 0.6438 - accuracy: 0.6558 - val_loss: 0.6292 - val_accuracy: 0.7176\n",
      "Epoch 65/100\n",
      "4/4 [==============================] - 0s 42ms/step - loss: 0.6429 - accuracy: 0.6546 - val_loss: 0.6299 - val_accuracy: 0.7161\n",
      "Epoch 66/100\n",
      "4/4 [==============================] - 0s 42ms/step - loss: 0.6412 - accuracy: 0.6575 - val_loss: 0.6262 - val_accuracy: 0.7168\n",
      "Epoch 67/100\n",
      "4/4 [==============================] - 0s 42ms/step - loss: 0.6372 - accuracy: 0.6574 - val_loss: 0.6263 - val_accuracy: 0.7169\n",
      "Epoch 68/100\n",
      "4/4 [==============================] - 0s 42ms/step - loss: 0.6362 - accuracy: 0.6576 - val_loss: 0.6269 - val_accuracy: 0.7144\n",
      "Epoch 69/100\n",
      "4/4 [==============================] - 0s 42ms/step - loss: 0.6311 - accuracy: 0.6576 - val_loss: 0.6271 - val_accuracy: 0.7125\n",
      "Epoch 70/100\n",
      "4/4 [==============================] - 0s 43ms/step - loss: 0.6329 - accuracy: 0.6571 - val_loss: 0.6243 - val_accuracy: 0.7140\n",
      "Epoch 71/100\n",
      "4/4 [==============================] - 0s 44ms/step - loss: 0.6297 - accuracy: 0.6607 - val_loss: 0.6210 - val_accuracy: 0.7168\n",
      "Epoch 72/100\n",
      "4/4 [==============================] - 0s 42ms/step - loss: 0.6294 - accuracy: 0.6589 - val_loss: 0.6259 - val_accuracy: 0.7139\n",
      "Epoch 73/100\n",
      "4/4 [==============================] - 0s 42ms/step - loss: 0.6305 - accuracy: 0.6580 - val_loss: 0.6290 - val_accuracy: 0.7106\n",
      "Epoch 74/100\n",
      "4/4 [==============================] - 0s 43ms/step - loss: 0.6307 - accuracy: 0.6584 - val_loss: 0.6284 - val_accuracy: 0.7106\n",
      "Epoch 75/100\n",
      "4/4 [==============================] - 0s 46ms/step - loss: 0.6272 - accuracy: 0.6617 - val_loss: 0.6263 - val_accuracy: 0.7119\n",
      "Epoch 76/100\n",
      "4/4 [==============================] - 0s 42ms/step - loss: 0.6280 - accuracy: 0.6596 - val_loss: 0.6236 - val_accuracy: 0.7142\n",
      "Epoch 77/100\n",
      "4/4 [==============================] - 0s 42ms/step - loss: 0.6250 - accuracy: 0.6617 - val_loss: 0.6217 - val_accuracy: 0.7163\n",
      "Epoch 78/100\n",
      "4/4 [==============================] - 0s 41ms/step - loss: 0.6240 - accuracy: 0.6605 - val_loss: 0.6213 - val_accuracy: 0.7168\n",
      "Epoch 79/100\n",
      "4/4 [==============================] - 0s 42ms/step - loss: 0.6233 - accuracy: 0.6620 - val_loss: 0.6208 - val_accuracy: 0.7173\n",
      "Epoch 80/100\n",
      "4/4 [==============================] - 0s 42ms/step - loss: 0.6249 - accuracy: 0.6617 - val_loss: 0.6224 - val_accuracy: 0.7156\n",
      "Epoch 81/100\n",
      "4/4 [==============================] - 0s 41ms/step - loss: 0.6231 - accuracy: 0.6635 - val_loss: 0.6236 - val_accuracy: 0.7148\n",
      "Epoch 82/100\n",
      "4/4 [==============================] - 0s 42ms/step - loss: 0.6226 - accuracy: 0.6626 - val_loss: 0.6227 - val_accuracy: 0.7150\n",
      "Epoch 83/100\n",
      "4/4 [==============================] - 0s 43ms/step - loss: 0.6204 - accuracy: 0.6650 - val_loss: 0.6191 - val_accuracy: 0.7177\n",
      "Epoch 84/100\n",
      "4/4 [==============================] - 0s 43ms/step - loss: 0.6231 - accuracy: 0.6614 - val_loss: 0.6159 - val_accuracy: 0.7201\n",
      "Epoch 85/100\n",
      "4/4 [==============================] - 0s 43ms/step - loss: 0.6221 - accuracy: 0.6630 - val_loss: 0.6151 - val_accuracy: 0.7196\n",
      "Epoch 86/100\n",
      "4/4 [==============================] - 0s 43ms/step - loss: 0.6185 - accuracy: 0.6628 - val_loss: 0.6140 - val_accuracy: 0.7196\n",
      "Epoch 87/100\n",
      "4/4 [==============================] - 0s 43ms/step - loss: 0.6191 - accuracy: 0.6639 - val_loss: 0.6153 - val_accuracy: 0.7174\n",
      "Epoch 88/100\n",
      "4/4 [==============================] - 0s 41ms/step - loss: 0.6194 - accuracy: 0.6631 - val_loss: 0.6156 - val_accuracy: 0.7166\n",
      "Epoch 89/100\n",
      "4/4 [==============================] - 0s 41ms/step - loss: 0.6189 - accuracy: 0.6644 - val_loss: 0.6141 - val_accuracy: 0.7171\n",
      "Epoch 90/100\n",
      "4/4 [==============================] - 0s 43ms/step - loss: 0.6194 - accuracy: 0.6648 - val_loss: 0.6136 - val_accuracy: 0.7168\n",
      "Epoch 91/100\n",
      "4/4 [==============================] - 0s 41ms/step - loss: 0.6165 - accuracy: 0.6652 - val_loss: 0.6161 - val_accuracy: 0.7138\n",
      "Epoch 92/100\n",
      "4/4 [==============================] - 0s 41ms/step - loss: 0.6177 - accuracy: 0.6645 - val_loss: 0.6158 - val_accuracy: 0.7140\n",
      "Epoch 93/100\n",
      "4/4 [==============================] - 0s 41ms/step - loss: 0.6176 - accuracy: 0.6637 - val_loss: 0.6158 - val_accuracy: 0.7133\n",
      "Epoch 94/100\n",
      "4/4 [==============================] - 0s 42ms/step - loss: 0.6183 - accuracy: 0.6641 - val_loss: 0.6144 - val_accuracy: 0.7141\n",
      "Epoch 95/100\n",
      "4/4 [==============================] - 0s 42ms/step - loss: 0.6172 - accuracy: 0.6672 - val_loss: 0.6141 - val_accuracy: 0.7147\n",
      "Epoch 96/100\n",
      "4/4 [==============================] - 0s 42ms/step - loss: 0.6165 - accuracy: 0.6658 - val_loss: 0.6139 - val_accuracy: 0.7149\n",
      "Epoch 97/100\n",
      "4/4 [==============================] - 0s 42ms/step - loss: 0.6150 - accuracy: 0.6670 - val_loss: 0.6130 - val_accuracy: 0.7154\n",
      "Epoch 98/100\n",
      "4/4 [==============================] - 0s 42ms/step - loss: 0.6158 - accuracy: 0.6675 - val_loss: 0.6115 - val_accuracy: 0.7159\n",
      "Epoch 99/100\n",
      "4/4 [==============================] - 0s 42ms/step - loss: 0.6159 - accuracy: 0.6655 - val_loss: 0.6103 - val_accuracy: 0.7165\n",
      "Epoch 100/100\n",
      "4/4 [==============================] - 0s 40ms/step - loss: 0.6146 - accuracy: 0.6664 - val_loss: 0.6104 - val_accuracy: 0.7154\n"
     ]
    }
   ],
   "source": [
    "hist2 = model8.fit(x_train3, y_train3, validation_data=(x_val, y_val), epochs=100, batch_size=10000)"
   ]
  },
  {
   "cell_type": "code",
   "execution_count": 50,
   "metadata": {},
   "outputs": [
    {
     "data": {
      "image/png": "[encoded data removed]",
      "text/plain": [
       "<Figure size 432x288 with 1 Axes>"
      ]
     },
     "metadata": {
      "needs_background": "light"
     },
     "output_type": "display_data"
    }
   ],
   "source": [
    "# Get training and test loss histories\n",
    "training_loss = hist2.history['loss']\n",
    "val_loss = hist2.history['val_loss']\n",
    "\n",
    "# Create count of the number of epochs\n",
    "epoch_count = range(1, len(training_loss) + 1)\n",
    "\n",
    "# Visualize loss history\n",
    "plt.plot(epoch_count, training_loss, 'r--')\n",
    "plt.plot(epoch_count, val_loss, 'b-')\n",
    "plt.legend(['Training Loss', 'val_loss'])\n",
    "plt.xlabel('Epoch')\n",
    "plt.ylabel('val_loss')\n",
    "plt.show();"
   ]
  },
  {
   "cell_type": "code",
   "execution_count": 51,
   "metadata": {},
   "outputs": [
    {
     "data": {
      "text/plain": [
       "[<matplotlib.lines.Line2D at 0x2081606e8b0>]"
      ]
     },
     "execution_count": 51,
     "metadata": {},
     "output_type": "execute_result"
    },
    {
     "data": {
      "image/png": "[encoded data removed]",
      "text/plain": [
       "<Figure size 432x288 with 1 Axes>"
      ]
     },
     "metadata": {
      "needs_background": "light"
     },
     "output_type": "display_data"
    }
   ],
   "source": [
    "y_predicted = model8.predict(x_test)\n",
    "k =[]\n",
    "f1score = []\n",
    "for i in range(1,21,1):\n",
    "    i = i*0.05\n",
    "    k.append(i)\n",
    "    y_pred = [1 if x>i else 0 for x in y_predicted]\n",
    "    f1score.append(fbeta_score(y_test, y_pred, average='macro',beta=2))\n",
    "plt.plot(k,f1score)"
   ]
  },
  {
   "cell_type": "code",
   "execution_count": 52,
   "metadata": {},
   "outputs": [
    {
     "data": {
      "text/plain": [
       "Text(33.0, 0.5, 'Actual label')"
      ]
     },
     "execution_count": 52,
     "metadata": {},
     "output_type": "execute_result"
    },
    {
     "data": {
      "image/png": "[encoded data removed]",
      "text/plain": [
       "<Figure size 432x288 with 2 Axes>"
      ]
     },
     "metadata": {
      "needs_background": "light"
     },
     "output_type": "display_data"
    }
   ],
   "source": [
    "y_pred = model8.predict(x_test) \n",
    "y_pred = [1 if x> 0.6 else 0 for x in y_pred]\n",
    "mat = confusion_matrix(y_test, y_pred)\n",
    "labels = ['Legitimate', 'Fraudulent']\n",
    "sns.heatmap(mat/np.sum(mat), annot=True,fmt='.2%', cmap='Blues')\n",
    "plt.xlabel('Predicted label')\n",
    "plt.ylabel('Actual label')"
   ]
  },
  {
   "cell_type": "code",
   "execution_count": 53,
   "metadata": {},
   "outputs": [
    {
     "name": "stdout",
     "output_type": "stream",
     "text": [
      "              precision    recall  f1-score   support\n",
      "\n",
      "     Class 0       0.95      0.84      0.89     25517\n",
      "     Class 1       0.19      0.45      0.27      2160\n",
      "\n",
      "    accuracy                           0.81     27677\n",
      "   macro avg       0.57      0.65      0.58     27677\n",
      "weighted avg       0.89      0.81      0.84     27677\n",
      "\n",
      "f2 score: 0.6092384633613768\n",
      "AUC Score: 0.6475248708558854\n"
     ]
    }
   ],
   "source": [
    "print(classification_report(y_test, y_pred, target_names=['Class 0','Class 1']))\n",
    "print('f2 score: ' + str(fbeta_score(y_test, y_pred,average='macro', beta =2 )))\n",
    "fpr, tpr, thresholds = metrics.roc_curve(y_test,y_pred)\n",
    "print('AUC Score: ' + str(metrics.auc(fpr, tpr)))"
   ]
  },
  {
   "cell_type": "markdown",
   "metadata": {},
   "source": [
    "<font size=\"4\"> Work done by Lin Yi for SMU AML project. Not for external Distribution"
   ]
  }
 ],
 "metadata": {
  "kernelspec": {
   "display_name": "Python 3",
   "language": "python",
   "name": "python3"
  },
  "language_info": {
   "codemirror_mode": {
    "name": "ipython",
    "version": 3
   },
   "file_extension": ".py",
   "mimetype": "text/x-python",
   "name": "python",
   "nbconvert_exporter": "python",
   "pygments_lexer": "ipython3",
   "version": "3.8.3"
  }
 },
 "nbformat": 4,
 "nbformat_minor": 4
}
